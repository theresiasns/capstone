{
  "nbformat": 4,
  "nbformat_minor": 0,
  "metadata": {
    "colab": {
      "provenance": [],
      "gpuType": "T4",
      "authorship_tag": "ABX9TyNsdJoNcIoAhnOXbSHMG2cf",
      "include_colab_link": true
    },
    "kernelspec": {
      "name": "python3",
      "display_name": "Python 3"
    },
    "language_info": {
      "name": "python"
    },
    "accelerator": "GPU"
  },
  "cells": [
    {
      "cell_type": "markdown",
      "metadata": {
        "id": "view-in-github",
        "colab_type": "text"
      },
      "source": [
        "<a href=\"https://colab.research.google.com/github/theresiasns/capstone/blob/main/VGG16_corn.ipynb\" target=\"_parent\"><img src=\"https://colab.research.google.com/assets/colab-badge.svg\" alt=\"Open In Colab\"/></a>"
      ]
    },
    {
      "cell_type": "code",
      "execution_count": 1,
      "metadata": {
        "id": "VhsO-iJPWo2i"
      },
      "outputs": [],
      "source": [
        "import tensorflow as tf\n",
        "from tensorflow.keras.preprocessing.image import ImageDataGenerator\n",
        "from tensorflow.keras.applications import VGG16\n",
        "from tensorflow.keras.layers import Dense, Dropout, GlobalAveragePooling2D\n",
        "from tensorflow.keras.models import Model\n",
        "import os"
      ]
    },
    {
      "cell_type": "code",
      "source": [
        "from google.colab import drive\n",
        "drive.mount(\"/content/drive/\")"
      ],
      "metadata": {
        "colab": {
          "base_uri": "https://localhost:8080/"
        },
        "id": "iYDd3WAvYV8l",
        "outputId": "a103577e-9897-477f-805d-9da5093fdb64"
      },
      "execution_count": 2,
      "outputs": [
        {
          "output_type": "stream",
          "name": "stdout",
          "text": [
            "Mounted at /content/drive/\n"
          ]
        }
      ]
    },
    {
      "cell_type": "code",
      "source": [
        "base_dir=\"/content/drive/MyDrive/corn/\"\n",
        "!ls\"/content/drive/MyDrive/corn/\""
      ],
      "metadata": {
        "colab": {
          "base_uri": "https://localhost:8080/"
        },
        "id": "kEXLzWv7YXqL",
        "outputId": "db1fd91e-f4b2-4518-ec3e-875404fd1422"
      },
      "execution_count": 3,
      "outputs": [
        {
          "output_type": "stream",
          "name": "stdout",
          "text": [
            "/bin/bash: ls/content/drive/MyDrive/corn/: No such file or directory\n"
          ]
        }
      ]
    },
    {
      "cell_type": "code",
      "source": [
        "directory = os.path.join(base_dir)"
      ],
      "metadata": {
        "id": "voqcpWOTYZMQ"
      },
      "execution_count": 4,
      "outputs": []
    },
    {
      "cell_type": "code",
      "source": [
        "train_dir = os.path.join(directory, 'train')\n",
        "validation_dir = os.path.join(directory, 'val')"
      ],
      "metadata": {
        "id": "lEa2JmFUYavH"
      },
      "execution_count": 5,
      "outputs": []
    },
    {
      "cell_type": "code",
      "source": [
        "Name=[]\n",
        "for file in os.listdir(train_dir):\n",
        "    Name+=[file]\n",
        "print(Name)\n",
        "print(len(Name))"
      ],
      "metadata": {
        "colab": {
          "base_uri": "https://localhost:8080/"
        },
        "id": "IQsvVYCBYy5U",
        "outputId": "7466664b-fe41-4ce6-b03b-3d550efeab6e"
      },
      "execution_count": 6,
      "outputs": [
        {
          "output_type": "stream",
          "name": "stdout",
          "text": [
            "['Corn_(maize)___Common_rust_', 'Corn_(maize)___healthy', 'Corn_(maize)___Northern_Leaf_Blight', 'Corn_(maize)___Cercospora_leaf_spot Gray_leaf_spot']\n",
            "4\n"
          ]
        }
      ]
    },
    {
      "cell_type": "code",
      "source": [
        "N=[]\n",
        "for i in range(len(Name)):\n",
        "    N+=[i]\n",
        "    \n",
        "normal_mapping=dict(zip(Name,N)) \n",
        "reverse_mapping=dict(zip(N,Name)) \n",
        "\n",
        "def mapper(value):\n",
        "    return reverse_mapping[value]"
      ],
      "metadata": {
        "id": "6T5E96vsY0fq"
      },
      "execution_count": 7,
      "outputs": []
    },
    {
      "cell_type": "code",
      "source": [
        "img_width, img_height = 224, 224\n",
        "batch_size=32"
      ],
      "metadata": {
        "id": "xPU5bi2jZCWJ"
      },
      "execution_count": 8,
      "outputs": []
    },
    {
      "cell_type": "code",
      "source": [
        "# Pra-pemrosesan gambar\n",
        "train_datagen = ImageDataGenerator(\n",
        "    rescale=1.0/255,\n",
        "    shear_range=0.2,\n",
        "    zoom_range=0.2,\n",
        "    horizontal_flip=True)\n",
        "\n",
        "validation_datagen = ImageDataGenerator(rescale=1.0/255)\n",
        "\n",
        "train_generator = train_datagen.flow_from_directory(\n",
        "    train_dir,\n",
        "    target_size=(img_width, img_height),\n",
        "    batch_size=batch_size,\n",
        "    class_mode='categorical')\n",
        "\n",
        "validation_generator = validation_datagen.flow_from_directory(\n",
        "    validation_dir,\n",
        "    target_size=(img_width, img_height),\n",
        "    batch_size=batch_size,\n",
        "    class_mode='categorical')"
      ],
      "metadata": {
        "colab": {
          "base_uri": "https://localhost:8080/"
        },
        "id": "0yjakhiiY5l-",
        "outputId": "fbc88df3-4aea-4abc-b897-ac587846345f"
      },
      "execution_count": 9,
      "outputs": [
        {
          "output_type": "stream",
          "name": "stdout",
          "text": [
            "Found 3080 images belonging to 4 classes.\n",
            "Found 772 images belonging to 4 classes.\n"
          ]
        }
      ]
    },
    {
      "cell_type": "code",
      "source": [
        "# Memuat model VGG16 tanpa lapisan klasifikasi\n",
        "base_model = VGG16(weights='imagenet', include_top=False, input_shape=(img_width, img_height, 3))"
      ],
      "metadata": {
        "colab": {
          "base_uri": "https://localhost:8080/"
        },
        "id": "C6ADfbFmZMCt",
        "outputId": "41023392-e951-404c-af2c-631c4396e762"
      },
      "execution_count": 10,
      "outputs": [
        {
          "output_type": "stream",
          "name": "stdout",
          "text": [
            "Downloading data from https://storage.googleapis.com/tensorflow/keras-applications/vgg16/vgg16_weights_tf_dim_ordering_tf_kernels_notop.h5\n",
            "58889256/58889256 [==============================] - 2s 0us/step\n"
          ]
        }
      ]
    },
    {
      "cell_type": "code",
      "source": [
        "# Menambahkan lapisan klasifikasi baru\n",
        "x = base_model.output\n",
        "x = GlobalAveragePooling2D()(x)\n",
        "x = Dense(256, activation='relu')(x)\n",
        "x = Dropout(0.5)(x)\n",
        "predictions = Dense(4, activation='softmax')(x)"
      ],
      "metadata": {
        "id": "o_pgADHvZOxh"
      },
      "execution_count": 11,
      "outputs": []
    },
    {
      "cell_type": "code",
      "source": [
        "# Menggabungkan model dasar VGG16 dengan lapisan klasifikasi baru\n",
        "model = Model(inputs=base_model.input, outputs=predictions)"
      ],
      "metadata": {
        "id": "GVW7dW3MZTa5"
      },
      "execution_count": 12,
      "outputs": []
    },
    {
      "cell_type": "code",
      "source": [
        "# Mematikan pembelajaran pada lapisan dasar\n",
        "for layer in base_model.layers:\n",
        "    layer.trainable = False"
      ],
      "metadata": {
        "id": "CeCtSmTtZWLV"
      },
      "execution_count": 13,
      "outputs": []
    },
    {
      "cell_type": "code",
      "source": [
        "from tensorflow.keras.optimizers import Adam\n",
        "\n",
        "model.compile(optimizer=Adam(learning_rate=0.0001),loss='categorical_crossentropy',metrics=['accuracy'])"
      ],
      "metadata": {
        "id": "nWxqdaRDZjmh"
      },
      "execution_count": 14,
      "outputs": []
    },
    {
      "cell_type": "code",
      "source": [
        "history= model.fit(\n",
        "    train_generator,\n",
        "    steps_per_epoch=train_generator.samples // batch_size,\n",
        "    epochs=50,\n",
        "    validation_data=validation_generator,\n",
        "    validation_steps=validation_generator.samples // batch_size)"
      ],
      "metadata": {
        "colab": {
          "base_uri": "https://localhost:8080/"
        },
        "id": "g973LFMpZv_6",
        "outputId": "1c6aa299-4721-4d8f-c0aa-7f05274dbc2a"
      },
      "execution_count": 15,
      "outputs": [
        {
          "output_type": "stream",
          "name": "stdout",
          "text": [
            "Epoch 1/50\n",
            "96/96 [==============================] - 1280s 13s/step - loss: 1.3137 - accuracy: 0.4052 - val_loss: 1.0068 - val_accuracy: 0.7266\n",
            "Epoch 2/50\n",
            "96/96 [==============================] - 54s 565ms/step - loss: 0.9885 - accuracy: 0.6247 - val_loss: 0.8249 - val_accuracy: 0.7422\n",
            "Epoch 3/50\n",
            "96/96 [==============================] - 55s 572ms/step - loss: 0.8092 - accuracy: 0.7224 - val_loss: 0.7085 - val_accuracy: 0.7695\n",
            "Epoch 4/50\n",
            "96/96 [==============================] - 56s 581ms/step - loss: 0.6946 - accuracy: 0.7749 - val_loss: 0.6210 - val_accuracy: 0.7917\n",
            "Epoch 5/50\n",
            "96/96 [==============================] - 56s 578ms/step - loss: 0.6163 - accuracy: 0.8025 - val_loss: 0.5513 - val_accuracy: 0.8203\n",
            "Epoch 6/50\n",
            "96/96 [==============================] - 55s 577ms/step - loss: 0.5566 - accuracy: 0.8136 - val_loss: 0.5128 - val_accuracy: 0.8281\n",
            "Epoch 7/50\n",
            "96/96 [==============================] - 52s 538ms/step - loss: 0.5197 - accuracy: 0.8251 - val_loss: 0.4777 - val_accuracy: 0.8372\n",
            "Epoch 8/50\n",
            "96/96 [==============================] - 52s 546ms/step - loss: 0.4794 - accuracy: 0.8376 - val_loss: 0.4423 - val_accuracy: 0.8568\n",
            "Epoch 9/50\n",
            "96/96 [==============================] - 54s 560ms/step - loss: 0.4471 - accuracy: 0.8550 - val_loss: 0.4215 - val_accuracy: 0.8581\n",
            "Epoch 10/50\n",
            "96/96 [==============================] - 54s 562ms/step - loss: 0.4229 - accuracy: 0.8606 - val_loss: 0.3951 - val_accuracy: 0.8724\n",
            "Epoch 11/50\n",
            "96/96 [==============================] - 54s 563ms/step - loss: 0.4126 - accuracy: 0.8629 - val_loss: 0.3754 - val_accuracy: 0.8841\n",
            "Epoch 12/50\n",
            "96/96 [==============================] - 51s 535ms/step - loss: 0.3851 - accuracy: 0.8707 - val_loss: 0.3607 - val_accuracy: 0.8815\n",
            "Epoch 13/50\n",
            "96/96 [==============================] - 52s 543ms/step - loss: 0.3658 - accuracy: 0.8825 - val_loss: 0.3372 - val_accuracy: 0.8945\n",
            "Epoch 14/50\n",
            "96/96 [==============================] - 53s 548ms/step - loss: 0.3564 - accuracy: 0.8763 - val_loss: 0.3325 - val_accuracy: 0.8893\n",
            "Epoch 15/50\n",
            "96/96 [==============================] - 53s 556ms/step - loss: 0.3342 - accuracy: 0.8885 - val_loss: 0.3185 - val_accuracy: 0.8971\n",
            "Epoch 16/50\n",
            "96/96 [==============================] - 51s 533ms/step - loss: 0.3258 - accuracy: 0.8894 - val_loss: 0.2987 - val_accuracy: 0.9062\n",
            "Epoch 17/50\n",
            "96/96 [==============================] - 51s 529ms/step - loss: 0.3280 - accuracy: 0.8848 - val_loss: 0.2963 - val_accuracy: 0.9023\n",
            "Epoch 18/50\n",
            "96/96 [==============================] - 54s 559ms/step - loss: 0.3128 - accuracy: 0.8944 - val_loss: 0.2950 - val_accuracy: 0.9076\n",
            "Epoch 19/50\n",
            "96/96 [==============================] - 54s 564ms/step - loss: 0.3012 - accuracy: 0.8953 - val_loss: 0.2784 - val_accuracy: 0.9115\n",
            "Epoch 20/50\n",
            "96/96 [==============================] - 51s 529ms/step - loss: 0.2963 - accuracy: 0.8947 - val_loss: 0.2740 - val_accuracy: 0.9102\n",
            "Epoch 21/50\n",
            "96/96 [==============================] - 52s 542ms/step - loss: 0.2838 - accuracy: 0.9022 - val_loss: 0.2645 - val_accuracy: 0.9154\n",
            "Epoch 22/50\n",
            "96/96 [==============================] - 53s 551ms/step - loss: 0.2833 - accuracy: 0.9012 - val_loss: 0.2620 - val_accuracy: 0.9115\n",
            "Epoch 23/50\n",
            "96/96 [==============================] - 52s 539ms/step - loss: 0.2715 - accuracy: 0.9072 - val_loss: 0.2531 - val_accuracy: 0.9180\n",
            "Epoch 24/50\n",
            "96/96 [==============================] - 50s 520ms/step - loss: 0.2749 - accuracy: 0.9078 - val_loss: 0.2481 - val_accuracy: 0.9206\n",
            "Epoch 25/50\n",
            "96/96 [==============================] - 51s 527ms/step - loss: 0.2761 - accuracy: 0.8973 - val_loss: 0.2493 - val_accuracy: 0.9206\n",
            "Epoch 26/50\n",
            "96/96 [==============================] - 53s 547ms/step - loss: 0.2653 - accuracy: 0.9098 - val_loss: 0.2365 - val_accuracy: 0.9167\n",
            "Epoch 27/50\n",
            "96/96 [==============================] - 51s 533ms/step - loss: 0.2536 - accuracy: 0.9072 - val_loss: 0.2418 - val_accuracy: 0.9180\n",
            "Epoch 28/50\n",
            "96/96 [==============================] - 52s 546ms/step - loss: 0.2560 - accuracy: 0.9072 - val_loss: 0.2322 - val_accuracy: 0.9232\n",
            "Epoch 29/50\n",
            "96/96 [==============================] - 61s 640ms/step - loss: 0.2472 - accuracy: 0.9108 - val_loss: 0.2226 - val_accuracy: 0.9193\n",
            "Epoch 30/50\n",
            "96/96 [==============================] - 51s 520ms/step - loss: 0.2448 - accuracy: 0.9131 - val_loss: 0.2225 - val_accuracy: 0.9219\n",
            "Epoch 31/50\n",
            "96/96 [==============================] - 55s 569ms/step - loss: 0.2364 - accuracy: 0.9180 - val_loss: 0.2249 - val_accuracy: 0.9206\n",
            "Epoch 32/50\n",
            "96/96 [==============================] - 53s 548ms/step - loss: 0.2407 - accuracy: 0.9094 - val_loss: 0.2187 - val_accuracy: 0.9219\n",
            "Epoch 33/50\n",
            "96/96 [==============================] - 52s 537ms/step - loss: 0.2368 - accuracy: 0.9160 - val_loss: 0.2244 - val_accuracy: 0.9258\n",
            "Epoch 34/50\n",
            "96/96 [==============================] - 51s 528ms/step - loss: 0.2344 - accuracy: 0.9111 - val_loss: 0.2098 - val_accuracy: 0.9206\n",
            "Epoch 35/50\n",
            "96/96 [==============================] - 50s 522ms/step - loss: 0.2331 - accuracy: 0.9140 - val_loss: 0.2097 - val_accuracy: 0.9284\n",
            "Epoch 36/50\n",
            "96/96 [==============================] - 50s 523ms/step - loss: 0.2158 - accuracy: 0.9236 - val_loss: 0.2018 - val_accuracy: 0.9245\n",
            "Epoch 37/50\n",
            "96/96 [==============================] - 51s 524ms/step - loss: 0.2224 - accuracy: 0.9183 - val_loss: 0.2038 - val_accuracy: 0.9258\n",
            "Epoch 38/50\n",
            "96/96 [==============================] - 48s 500ms/step - loss: 0.2170 - accuracy: 0.9199 - val_loss: 0.1998 - val_accuracy: 0.9219\n",
            "Epoch 39/50\n",
            "96/96 [==============================] - 51s 530ms/step - loss: 0.2235 - accuracy: 0.9193 - val_loss: 0.1973 - val_accuracy: 0.9284\n",
            "Epoch 40/50\n",
            "96/96 [==============================] - 51s 529ms/step - loss: 0.2153 - accuracy: 0.9213 - val_loss: 0.2040 - val_accuracy: 0.9271\n",
            "Epoch 41/50\n",
            "96/96 [==============================] - 48s 500ms/step - loss: 0.2120 - accuracy: 0.9242 - val_loss: 0.1865 - val_accuracy: 0.9336\n",
            "Epoch 42/50\n",
            "96/96 [==============================] - 49s 513ms/step - loss: 0.2125 - accuracy: 0.9222 - val_loss: 0.1902 - val_accuracy: 0.9271\n",
            "Epoch 43/50\n",
            "96/96 [==============================] - 52s 536ms/step - loss: 0.2113 - accuracy: 0.9222 - val_loss: 0.1932 - val_accuracy: 0.9271\n",
            "Epoch 44/50\n",
            "96/96 [==============================] - 53s 548ms/step - loss: 0.2109 - accuracy: 0.9222 - val_loss: 0.1885 - val_accuracy: 0.9232\n",
            "Epoch 45/50\n",
            "96/96 [==============================] - 52s 543ms/step - loss: 0.1993 - accuracy: 0.9262 - val_loss: 0.1845 - val_accuracy: 0.9284\n",
            "Epoch 46/50\n",
            "96/96 [==============================] - 51s 533ms/step - loss: 0.1975 - accuracy: 0.9288 - val_loss: 0.1812 - val_accuracy: 0.9310\n",
            "Epoch 47/50\n",
            "96/96 [==============================] - 50s 522ms/step - loss: 0.2021 - accuracy: 0.9206 - val_loss: 0.1826 - val_accuracy: 0.9362\n",
            "Epoch 48/50\n",
            "96/96 [==============================] - 51s 531ms/step - loss: 0.2046 - accuracy: 0.9226 - val_loss: 0.1742 - val_accuracy: 0.9336\n",
            "Epoch 49/50\n",
            "96/96 [==============================] - 48s 500ms/step - loss: 0.1978 - accuracy: 0.9301 - val_loss: 0.1781 - val_accuracy: 0.9375\n",
            "Epoch 50/50\n",
            "96/96 [==============================] - 50s 525ms/step - loss: 0.1931 - accuracy: 0.9255 - val_loss: 0.1738 - val_accuracy: 0.9362\n"
          ]
        }
      ]
    },
    {
      "cell_type": "code",
      "source": [
        "import matplotlib.pyplot as plt\n",
        "\n",
        "acc=history.history['accuracy']\n",
        "val_acc=history.history['val_accuracy']\n",
        "loss=history.history['loss']\n",
        "val_loss=history.history['val_loss']\n",
        "\n",
        "epochs=range(len(acc)) # Get number of epochs\n",
        "\n",
        "#------------------------------------------------\n",
        "# Plot training and validation accuracy per epoch\n",
        "#------------------------------------------------\n",
        "plt.plot(epochs, acc, 'r', \"Training Accuracy\")\n",
        "plt.plot(epochs, val_acc, 'b', \"Validation Accuracy\")\n",
        "plt.title('Training and validation accuracy')\n",
        "plt.show()\n",
        "print(\"\")\n",
        "\n",
        "#------------------------------------------------\n",
        "# Plot training and validation loss per epoch\n",
        "#------------------------------------------------\n",
        "plt.plot(epochs, loss, 'r', \"Training Loss\")\n",
        "plt.plot(epochs, val_loss, 'b', \"Validation Loss\")\n",
        "plt.show()"
      ],
      "metadata": {
        "colab": {
          "base_uri": "https://localhost:8080/",
          "height": 882
        },
        "id": "jg2QOI8tq2fL",
        "outputId": "20c16156-d400-475c-a979-a92f8826b604"
      },
      "execution_count": 16,
      "outputs": [
        {
          "output_type": "display_data",
          "data": {
            "text/plain": [
              "<Figure size 640x480 with 1 Axes>"
            ],
            "image/png": "[encoded data removed]"
          },
          "metadata": {}
        },
        {
          "output_type": "stream",
          "name": "stdout",
          "text": [
            "\n"
          ]
        },
        {
          "output_type": "display_data",
          "data": {
            "text/plain": [
              "<Figure size 640x480 with 1 Axes>"
            ],
            "image/png": "[encoded data removed]"
          },
          "metadata": {}
        }
      ]
    },
    {
      "cell_type": "code",
      "source": [
        "## NOTE: If you are using Safari and this cell throws an error,\n",
        "## please skip this block and run the next one instead.\n",
        "\n",
        "import numpy as np\n",
        "\n",
        "from google.colab import files\n",
        "from tensorflow.keras.utils import load_img, img_to_array\n",
        "\n",
        "uploaded=files.upload()\n",
        "\n",
        "for fn in uploaded.keys():\n",
        " \n",
        "  # predicting images\n",
        "  path='/content/' + fn\n",
        "  img=load_img(path, target_size=(224,224))\n",
        "  \n",
        "  x=img_to_array(img)\n",
        "  x /= 255\n",
        "  x=np.expand_dims(x, axis=0)\n",
        "  images = np.vstack([x])\n",
        "  \n",
        "  classes = model.predict(images, batch_size=10)\n",
        "\n",
        "  print(classes[0])\n",
        "  value=np.argmax(classes)\n",
        "  move_name=mapper(value)\n",
        "  \n",
        "  print(\"Prediction is {}.\".format(move_name))"
      ],
      "metadata": {
        "colab": {
          "base_uri": "https://localhost:8080/",
          "height": 123
        },
        "id": "FiKT_J_2q-zl",
        "outputId": "a0fd874d-32a9-414c-9ba0-927d54aa271d"
      },
      "execution_count": 23,
      "outputs": [
        {
          "output_type": "display_data",
          "data": {
            "text/plain": [
              "<IPython.core.display.HTML object>"
            ],
            "text/html": [
              "\n",
              "     <input type=\"file\" id=\"files-b1fed36a-e533-4738-9bc7-223f7ea5e15f\" name=\"files[]\" multiple disabled\n",
              "        style=\"border:none\" />\n",
              "     <output id=\"result-b1fed36a-e533-4738-9bc7-223f7ea5e15f\">\n",
              "      Upload widget is only available when the cell has been executed in the\n",
              "      current browser session. Please rerun this cell to enable.\n",
              "      </output>\n",
              "      <script>// Copyright 2017 Google LLC\n",
              "//\n",
              "// Licensed under the Apache License, Version 2.0 (the \"License\");\n",
              "// you may not use this file except in compliance with the License.\n",
              "// You may obtain a copy of the License at\n",
              "//\n",
              "//      http://www.apache.org/licenses/LICENSE-2.0\n",
              "//\n",
              "// Unless required by applicable law or agreed to in writing, software\n",
              "// distributed under the License is distributed on an \"AS IS\" BASIS,\n",
              "// WITHOUT WARRANTIES OR CONDITIONS OF ANY KIND, either express or implied.\n",
              "// See the License for the specific language governing permissions and\n",
              "// limitations under the License.\n",
              "\n",
              "/**\n",
              " * @fileoverview Helpers for google.colab Python module.\n",
              " */\n",
              "(function(scope) {\n",
              "function span(text, styleAttributes = {}) {\n",
              "  const element = document.createElement('span');\n",
              "  element.textContent = text;\n",
              "  for (const key of Object.keys(styleAttributes)) {\n",
              "    element.style[key] = styleAttributes[key];\n",
              "  }\n",
              "  return element;\n",
              "}\n",
              "\n",
              "// Max number of bytes which will be uploaded at a time.\n",
              "const MAX_PAYLOAD_SIZE = 100 * 1024;\n",
              "\n",
              "function _uploadFiles(inputId, outputId) {\n",
              "  const steps = uploadFilesStep(inputId, outputId);\n",
              "  const outputElement = document.getElementById(outputId);\n",
              "  // Cache steps on the outputElement to make it available for the next call\n",
              "  // to uploadFilesContinue from Python.\n",
              "  outputElement.steps = steps;\n",
              "\n",
              "  return _uploadFilesContinue(outputId);\n",
              "}\n",
              "\n",
              "// This is roughly an async generator (not supported in the browser yet),\n",
              "// where there are multiple asynchronous steps and the Python side is going\n",
              "// to poll for completion of each step.\n",
              "// This uses a Promise to block the python side on completion of each step,\n",
              "// then passes the result of the previous step as the input to the next step.\n",
              "function _uploadFilesContinue(outputId) {\n",
              "  const outputElement = document.getElementById(outputId);\n",
              "  const steps = outputElement.steps;\n",
              "\n",
              "  const next = steps.next(outputElement.lastPromiseValue);\n",
              "  return Promise.resolve(next.value.promise).then((value) => {\n",
              "    // Cache the last promise value to make it available to the next\n",
              "    // step of the generator.\n",
              "    outputElement.lastPromiseValue = value;\n",
              "    return next.value.response;\n",
              "  });\n",
              "}\n",
              "\n",
              "/**\n",
              " * Generator function which is called between each async step of the upload\n",
              " * process.\n",
              " * @param {string} inputId Element ID of the input file picker element.\n",
              " * @param {string} outputId Element ID of the output display.\n",
              " * @return {!Iterable<!Object>} Iterable of next steps.\n",
              " */\n",
              "function* uploadFilesStep(inputId, outputId) {\n",
              "  const inputElement = document.getElementById(inputId);\n",
              "  inputElement.disabled = false;\n",
              "\n",
              "  const outputElement = document.getElementById(outputId);\n",
              "  outputElement.innerHTML = '';\n",
              "\n",
              "  const pickedPromise = new Promise((resolve) => {\n",
              "    inputElement.addEventListener('change', (e) => {\n",
              "      resolve(e.target.files);\n",
              "    });\n",
              "  });\n",
              "\n",
              "  const cancel = document.createElement('button');\n",
              "  inputElement.parentElement.appendChild(cancel);\n",
              "  cancel.textContent = 'Cancel upload';\n",
              "  const cancelPromise = new Promise((resolve) => {\n",
              "    cancel.onclick = () => {\n",
              "      resolve(null);\n",
              "    };\n",
              "  });\n",
              "\n",
              "  // Wait for the user to pick the files.\n",
              "  const files = yield {\n",
              "    promise: Promise.race([pickedPromise, cancelPromise]),\n",
              "    response: {\n",
              "      action: 'starting',\n",
              "    }\n",
              "  };\n",
              "\n",
              "  cancel.remove();\n",
              "\n",
              "  // Disable the input element since further picks are not allowed.\n",
              "  inputElement.disabled = true;\n",
              "\n",
              "  if (!files) {\n",
              "    return {\n",
              "      response: {\n",
              "        action: 'complete',\n",
              "      }\n",
              "    };\n",
              "  }\n",
              "\n",
              "  for (const file of files) {\n",
              "    const li = document.createElement('li');\n",
              "    li.append(span(file.name, {fontWeight: 'bold'}));\n",
              "    li.append(span(\n",
              "        `(${file.type || 'n/a'}) - ${file.size} bytes, ` +\n",
              "        `last modified: ${\n",
              "            file.lastModifiedDate ? file.lastModifiedDate.toLocaleDateString() :\n",
              "                                    'n/a'} - `));\n",
              "    const percent = span('0% done');\n",
              "    li.appendChild(percent);\n",
              "\n",
              "    outputElement.appendChild(li);\n",
              "\n",
              "    const fileDataPromise = new Promise((resolve) => {\n",
              "      const reader = new FileReader();\n",
              "      reader.onload = (e) => {\n",
              "        resolve(e.target.result);\n",
              "      };\n",
              "      reader.readAsArrayBuffer(file);\n",
              "    });\n",
              "    // Wait for the data to be ready.\n",
              "    let fileData = yield {\n",
              "      promise: fileDataPromise,\n",
              "      response: {\n",
              "        action: 'continue',\n",
              "      }\n",
              "    };\n",
              "\n",
              "    // Use a chunked sending to avoid message size limits. See b/62115660.\n",
              "    let position = 0;\n",
              "    do {\n",
              "      const length = Math.min(fileData.byteLength - position, MAX_PAYLOAD_SIZE);\n",
              "      const chunk = new Uint8Array(fileData, position, length);\n",
              "      position += length;\n",
              "\n",
              "      const base64 = btoa(String.fromCharCode.apply(null, chunk));\n",
              "      yield {\n",
              "        response: {\n",
              "          action: 'append',\n",
              "          file: file.name,\n",
              "          data: base64,\n",
              "        },\n",
              "      };\n",
              "\n",
              "      let percentDone = fileData.byteLength === 0 ?\n",
              "          100 :\n",
              "          Math.round((position / fileData.byteLength) * 100);\n",
              "      percent.textContent = `${percentDone}% done`;\n",
              "\n",
              "    } while (position < fileData.byteLength);\n",
              "  }\n",
              "\n",
              "  // All done.\n",
              "  yield {\n",
              "    response: {\n",
              "      action: 'complete',\n",
              "    }\n",
              "  };\n",
              "}\n",
              "\n",
              "scope.google = scope.google || {};\n",
              "scope.google.colab = scope.google.colab || {};\n",
              "scope.google.colab._files = {\n",
              "  _uploadFiles,\n",
              "  _uploadFilesContinue,\n",
              "};\n",
              "})(self);\n",
              "</script> "
            ]
          },
          "metadata": {}
        },
        {
          "output_type": "stream",
          "name": "stdout",
          "text": [
            "Saving RS_Rust 1577.JPG to RS_Rust 1577.JPG\n",
            "1/1 [==============================] - 0s 20ms/step\n",
            "[2.8057066e-03 9.9115270e-01 6.0414993e-03 1.0654308e-07]\n",
            "Prediction is Corn_(maize)___healthy.\n"
          ]
        }
      ]
    }
  ]
}