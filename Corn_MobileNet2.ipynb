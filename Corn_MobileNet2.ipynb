{
  "nbformat": 4,
  "nbformat_minor": 0,
  "metadata": {
    "colab": {
      "provenance": [],
      "gpuType": "T4",
      "authorship_tag": "ABX9TyOZq6GXNelmDq/qJig4OSpH",
      "include_colab_link": true
    },
    "kernelspec": {
      "name": "python3",
      "display_name": "Python 3"
    },
    "language_info": {
      "name": "python"
    },
    "accelerator": "GPU"
  },
  "cells": [
    {
      "cell_type": "markdown",
      "metadata": {
        "id": "view-in-github",
        "colab_type": "text"
      },
      "source": [
        "<a href=\"https://colab.research.google.com/github/theresiasns/capstone/blob/main/Corn_MobileNet2.ipynb\" target=\"_parent\"><img src=\"https://colab.research.google.com/assets/colab-badge.svg\" alt=\"Open In Colab\"/></a>"
      ]
    },
    {
      "cell_type": "code",
      "execution_count": 3,
      "metadata": {
        "id": "VhsO-iJPWo2i"
      },
      "outputs": [],
      "source": [
        "import tensorflow as tf\n",
        "from tensorflow.keras.preprocessing.image import ImageDataGenerator\n",
        "from tensorflow.keras.applications import VGG16\n",
        "from tensorflow.keras.layers import Dense, Dropout, GlobalAveragePooling2D\n",
        "from tensorflow.keras.models import Model\n",
        "import os"
      ]
    },
    {
      "cell_type": "code",
      "source": [
        "from google.colab import drive\n",
        "drive.mount(\"/content/drive/\")"
      ],
      "metadata": {
        "colab": {
          "base_uri": "https://localhost:8080/"
        },
        "id": "iYDd3WAvYV8l",
        "outputId": "3ded17f0-2097-4cba-818c-c43391de4269"
      },
      "execution_count": 4,
      "outputs": [
        {
          "output_type": "stream",
          "name": "stdout",
          "text": [
            "Mounted at /content/drive/\n"
          ]
        }
      ]
    },
    {
      "cell_type": "code",
      "source": [
        "base_dir=\"/content/drive/MyDrive/corn/\"\n",
        "!ls\"/content/drive/MyDrive/corn/\""
      ],
      "metadata": {
        "colab": {
          "base_uri": "https://localhost:8080/"
        },
        "id": "kEXLzWv7YXqL",
        "outputId": "f4f5e67a-d1f1-4599-cbc5-46eb1cf60b7d"
      },
      "execution_count": 5,
      "outputs": [
        {
          "output_type": "stream",
          "name": "stdout",
          "text": [
            "/bin/bash: ls/content/drive/MyDrive/corn/: No such file or directory\n"
          ]
        }
      ]
    },
    {
      "cell_type": "code",
      "source": [
        "directory = os.path.join(base_dir)"
      ],
      "metadata": {
        "id": "voqcpWOTYZMQ"
      },
      "execution_count": 6,
      "outputs": []
    },
    {
      "cell_type": "code",
      "source": [
        "train_dir = os.path.join(directory, 'train')\n",
        "validation_dir = os.path.join(directory, 'val')"
      ],
      "metadata": {
        "id": "lEa2JmFUYavH"
      },
      "execution_count": 7,
      "outputs": []
    },
    {
      "cell_type": "code",
      "source": [
        "Name=[]\n",
        "for file in os.listdir(train_dir):\n",
        "    Name+=[file]\n",
        "print(Name)\n",
        "print(len(Name))"
      ],
      "metadata": {
        "colab": {
          "base_uri": "https://localhost:8080/"
        },
        "id": "IQsvVYCBYy5U",
        "outputId": "a94112a6-d84c-4241-9439-0edcbdee5a63"
      },
      "execution_count": 8,
      "outputs": [
        {
          "output_type": "stream",
          "name": "stdout",
          "text": [
            "['Corn_(maize)___Common_rust_', 'Corn_(maize)___healthy', 'Corn_(maize)___Northern_Leaf_Blight', 'Corn_(maize)___Cercospora_leaf_spot Gray_leaf_spot']\n",
            "4\n"
          ]
        }
      ]
    },
    {
      "cell_type": "code",
      "source": [
        "N=[]\n",
        "for i in range(len(Name)):\n",
        "    N+=[i]\n",
        "    \n",
        "normal_mapping=dict(zip(Name,N)) \n",
        "reverse_mapping=dict(zip(N,Name)) \n",
        "\n",
        "def mapper(value):\n",
        "    return reverse_mapping[value]"
      ],
      "metadata": {
        "id": "6T5E96vsY0fq"
      },
      "execution_count": 9,
      "outputs": []
    },
    {
      "cell_type": "code",
      "source": [
        "img_width, img_height = 224, 224\n",
        "batch_size=32"
      ],
      "metadata": {
        "id": "xPU5bi2jZCWJ"
      },
      "execution_count": 10,
      "outputs": []
    },
    {
      "cell_type": "code",
      "source": [
        "# Pra-pemrosesan gambar\n",
        "train_datagen = ImageDataGenerator(rescale = 1./255,\n",
        "                                       rotation_range = 40,\n",
        "                                       width_shift_range = .2,\n",
        "                                       height_shift_range = .2,\n",
        "                                       shear_range = .2,\n",
        "                                       zoom_range = 0.3,\n",
        "                                       horizontal_flip = True,\n",
        "                                       vertical_flip=True,\n",
        "                                       brightness_range=[0.5, 1.5],\n",
        "                                       featurewise_center=True,\n",
        "                                       featurewise_std_normalization=True,\n",
        "                                       fill_mode = 'nearest',\n",
        "                                   )\n",
        "\n",
        "validation_datagen = ImageDataGenerator(rescale=1.0/255)\n",
        "\n",
        "train_generator = train_datagen.flow_from_directory(\n",
        "    train_dir,\n",
        "    target_size=(img_width, img_height),\n",
        "    batch_size=batch_size,\n",
        "    class_mode='categorical',\n",
        "    shuffle = True)\n",
        "\n",
        "validation_generator = validation_datagen.flow_from_directory(\n",
        "    validation_dir,\n",
        "    target_size=(img_width, img_height),\n",
        "    batch_size=batch_size,\n",
        "    class_mode='categorical',\n",
        "    shuffle = True)"
      ],
      "metadata": {
        "colab": {
          "base_uri": "https://localhost:8080/"
        },
        "id": "0yjakhiiY5l-",
        "outputId": "64f948aa-93ff-4c35-e6d6-ab9b3df02db5"
      },
      "execution_count": 12,
      "outputs": [
        {
          "output_type": "stream",
          "name": "stdout",
          "text": [
            "Found 3080 images belonging to 4 classes.\n",
            "Found 772 images belonging to 4 classes.\n"
          ]
        }
      ]
    },
    {
      "cell_type": "code",
      "source": [
        "import tensorflow as tf\n",
        "\n",
        "# Memuat model VGG16 tanpa lapisan klasifikasi\n",
        "base_model = tf.keras.applications.mobilenet_v2.MobileNetV2(weights='imagenet', include_top=False, input_shape=(img_width, img_height, 3))"
      ],
      "metadata": {
        "colab": {
          "base_uri": "https://localhost:8080/"
        },
        "id": "C6ADfbFmZMCt",
        "outputId": "0590d28a-382b-41e6-88d6-816f31e80a47"
      },
      "execution_count": 13,
      "outputs": [
        {
          "output_type": "stream",
          "name": "stdout",
          "text": [
            "Downloading data from https://storage.googleapis.com/tensorflow/keras-applications/mobilenet_v2/mobilenet_v2_weights_tf_dim_ordering_tf_kernels_1.0_224_no_top.h5\n",
            "9406464/9406464 [==============================] - 1s 0us/step\n"
          ]
        }
      ]
    },
    {
      "cell_type": "code",
      "source": [
        "# Menambahkan lapisan klasifikasi baru\n",
        "x = base_model.output\n",
        "x = GlobalAveragePooling2D()(x)\n",
        "x = Dense(256, activation='relu')(x)\n",
        "x = Dropout(0.5)(x)\n",
        "predictions = Dense(4, activation='softmax')(x)"
      ],
      "metadata": {
        "id": "o_pgADHvZOxh"
      },
      "execution_count": 14,
      "outputs": []
    },
    {
      "cell_type": "code",
      "source": [
        "# Menggabungkan model dasar VGG16 dengan lapisan klasifikasi baru\n",
        "model = Model(inputs=base_model.input, outputs=predictions)"
      ],
      "metadata": {
        "id": "GVW7dW3MZTa5"
      },
      "execution_count": 15,
      "outputs": []
    },
    {
      "cell_type": "code",
      "source": [
        "# Mematikan pembelajaran pada lapisan dasar\n",
        "for layer in base_model.layers:\n",
        "    layer.trainable = False"
      ],
      "metadata": {
        "id": "CeCtSmTtZWLV"
      },
      "execution_count": 16,
      "outputs": []
    },
    {
      "cell_type": "code",
      "source": [
        "from tensorflow.keras.optimizers import Adam\n",
        "\n",
        "model.compile(optimizer=Adam(learning_rate=0.0001),loss='categorical_crossentropy',metrics=['accuracy'])"
      ],
      "metadata": {
        "id": "nWxqdaRDZjmh"
      },
      "execution_count": 17,
      "outputs": []
    },
    {
      "cell_type": "code",
      "source": [
        "history= model.fit(\n",
        "    train_generator,\n",
        "    steps_per_epoch=train_generator.samples // batch_size,\n",
        "    epochs=50,\n",
        "    validation_data=validation_generator,\n",
        "    validation_steps=validation_generator.samples // batch_size)"
      ],
      "metadata": {
        "colab": {
          "base_uri": "https://localhost:8080/"
        },
        "id": "g973LFMpZv_6",
        "outputId": "3a895608-02f5-4dac-aa86-f3d82952b0f8"
      },
      "execution_count": 18,
      "outputs": [
        {
          "metadata": {
            "tags": null
          },
          "name": "stderr",
          "output_type": "stream",
          "text": [
            "/usr/local/lib/python3.10/dist-packages/keras/preprocessing/image.py:1861: UserWarning: This ImageDataGenerator specifies `featurewise_center`, but it hasn't been fit on any training data. Fit it first by calling `.fit(numpy_data)`.\n",
            "  warnings.warn(\n",
            "/usr/local/lib/python3.10/dist-packages/keras/preprocessing/image.py:1871: UserWarning: This ImageDataGenerator specifies `featurewise_std_normalization`, but it hasn't been fit on any training data. Fit it first by calling `.fit(numpy_data)`.\n",
            "  warnings.warn(\n"
          ]
        },
        {
          "output_type": "stream",
          "name": "stdout",
          "text": [
            "Epoch 1/50\n",
            "96/96 [==============================] - 1349s 14s/step - loss: 0.8098 - accuracy: 0.6857 - val_loss: 0.3676 - val_accuracy: 0.8763\n",
            "Epoch 2/50\n",
            "96/96 [==============================] - 53s 549ms/step - loss: 0.3715 - accuracy: 0.8586 - val_loss: 0.2480 - val_accuracy: 0.9141\n",
            "Epoch 3/50\n",
            "96/96 [==============================] - 51s 531ms/step - loss: 0.3192 - accuracy: 0.8753 - val_loss: 0.2115 - val_accuracy: 0.9193\n",
            "Epoch 4/50\n",
            "96/96 [==============================] - 54s 563ms/step - loss: 0.2707 - accuracy: 0.8957 - val_loss: 0.1905 - val_accuracy: 0.9271\n",
            "Epoch 5/50\n",
            "96/96 [==============================] - 52s 542ms/step - loss: 0.2660 - accuracy: 0.8927 - val_loss: 0.1967 - val_accuracy: 0.9232\n",
            "Epoch 6/50\n",
            "96/96 [==============================] - 52s 543ms/step - loss: 0.2518 - accuracy: 0.9022 - val_loss: 0.1897 - val_accuracy: 0.9258\n",
            "Epoch 7/50\n",
            "96/96 [==============================] - 53s 549ms/step - loss: 0.2219 - accuracy: 0.9098 - val_loss: 0.1738 - val_accuracy: 0.9258\n",
            "Epoch 8/50\n",
            "96/96 [==============================] - 51s 527ms/step - loss: 0.2145 - accuracy: 0.9170 - val_loss: 0.1715 - val_accuracy: 0.9232\n",
            "Epoch 9/50\n",
            "96/96 [==============================] - 53s 550ms/step - loss: 0.2016 - accuracy: 0.9219 - val_loss: 0.1651 - val_accuracy: 0.9323\n",
            "Epoch 10/50\n",
            "96/96 [==============================] - 53s 552ms/step - loss: 0.2048 - accuracy: 0.9150 - val_loss: 0.1571 - val_accuracy: 0.9310\n",
            "Epoch 11/50\n",
            "96/96 [==============================] - 54s 567ms/step - loss: 0.1889 - accuracy: 0.9226 - val_loss: 0.1452 - val_accuracy: 0.9414\n",
            "Epoch 12/50\n",
            "96/96 [==============================] - 51s 530ms/step - loss: 0.1825 - accuracy: 0.9268 - val_loss: 0.1635 - val_accuracy: 0.9310\n",
            "Epoch 13/50\n",
            "96/96 [==============================] - 53s 555ms/step - loss: 0.1797 - accuracy: 0.9285 - val_loss: 0.1545 - val_accuracy: 0.9323\n",
            "Epoch 14/50\n",
            "96/96 [==============================] - 53s 555ms/step - loss: 0.1798 - accuracy: 0.9265 - val_loss: 0.1553 - val_accuracy: 0.9375\n",
            "Epoch 15/50\n",
            "96/96 [==============================] - 52s 545ms/step - loss: 0.1856 - accuracy: 0.9268 - val_loss: 0.1471 - val_accuracy: 0.9362\n",
            "Epoch 16/50\n",
            "96/96 [==============================] - 52s 538ms/step - loss: 0.1887 - accuracy: 0.9281 - val_loss: 0.1528 - val_accuracy: 0.9323\n",
            "Epoch 17/50\n",
            "96/96 [==============================] - 53s 556ms/step - loss: 0.1794 - accuracy: 0.9327 - val_loss: 0.1429 - val_accuracy: 0.9414\n",
            "Epoch 18/50\n",
            "96/96 [==============================] - 53s 546ms/step - loss: 0.1803 - accuracy: 0.9242 - val_loss: 0.1443 - val_accuracy: 0.9375\n",
            "Epoch 19/50\n",
            "96/96 [==============================] - 52s 546ms/step - loss: 0.1676 - accuracy: 0.9337 - val_loss: 0.1487 - val_accuracy: 0.9375\n",
            "Epoch 20/50\n",
            "96/96 [==============================] - 52s 541ms/step - loss: 0.1763 - accuracy: 0.9242 - val_loss: 0.1419 - val_accuracy: 0.9453\n",
            "Epoch 21/50\n",
            "96/96 [==============================] - 56s 582ms/step - loss: 0.1708 - accuracy: 0.9308 - val_loss: 0.1485 - val_accuracy: 0.9336\n",
            "Epoch 22/50\n",
            "96/96 [==============================] - 52s 546ms/step - loss: 0.1662 - accuracy: 0.9288 - val_loss: 0.1563 - val_accuracy: 0.9297\n",
            "Epoch 23/50\n",
            "96/96 [==============================] - 55s 571ms/step - loss: 0.1601 - accuracy: 0.9357 - val_loss: 0.1410 - val_accuracy: 0.9414\n",
            "Epoch 24/50\n",
            "96/96 [==============================] - 54s 565ms/step - loss: 0.1571 - accuracy: 0.9413 - val_loss: 0.1355 - val_accuracy: 0.9427\n",
            "Epoch 25/50\n",
            "96/96 [==============================] - 54s 560ms/step - loss: 0.1614 - accuracy: 0.9354 - val_loss: 0.1396 - val_accuracy: 0.9427\n",
            "Epoch 26/50\n",
            "96/96 [==============================] - 53s 554ms/step - loss: 0.1520 - accuracy: 0.9364 - val_loss: 0.1371 - val_accuracy: 0.9401\n",
            "Epoch 27/50\n",
            "96/96 [==============================] - 51s 531ms/step - loss: 0.1661 - accuracy: 0.9314 - val_loss: 0.1399 - val_accuracy: 0.9427\n",
            "Epoch 28/50\n",
            "96/96 [==============================] - 53s 548ms/step - loss: 0.1634 - accuracy: 0.9354 - val_loss: 0.1380 - val_accuracy: 0.9401\n",
            "Epoch 29/50\n",
            "96/96 [==============================] - 52s 544ms/step - loss: 0.1527 - accuracy: 0.9380 - val_loss: 0.1407 - val_accuracy: 0.9401\n",
            "Epoch 30/50\n",
            "96/96 [==============================] - 55s 569ms/step - loss: 0.1498 - accuracy: 0.9426 - val_loss: 0.1296 - val_accuracy: 0.9466\n",
            "Epoch 31/50\n",
            "96/96 [==============================] - 52s 541ms/step - loss: 0.1518 - accuracy: 0.9400 - val_loss: 0.1346 - val_accuracy: 0.9401\n",
            "Epoch 32/50\n",
            "96/96 [==============================] - 54s 562ms/step - loss: 0.1444 - accuracy: 0.9390 - val_loss: 0.1406 - val_accuracy: 0.9375\n",
            "Epoch 33/50\n",
            "96/96 [==============================] - 53s 551ms/step - loss: 0.1424 - accuracy: 0.9386 - val_loss: 0.1375 - val_accuracy: 0.9427\n",
            "Epoch 34/50\n",
            "96/96 [==============================] - 53s 552ms/step - loss: 0.1451 - accuracy: 0.9390 - val_loss: 0.1358 - val_accuracy: 0.9388\n",
            "Epoch 35/50\n",
            "96/96 [==============================] - 55s 571ms/step - loss: 0.1522 - accuracy: 0.9373 - val_loss: 0.1322 - val_accuracy: 0.9479\n",
            "Epoch 36/50\n",
            "96/96 [==============================] - 55s 568ms/step - loss: 0.1492 - accuracy: 0.9416 - val_loss: 0.1329 - val_accuracy: 0.9427\n",
            "Epoch 37/50\n",
            "96/96 [==============================] - 54s 564ms/step - loss: 0.1467 - accuracy: 0.9383 - val_loss: 0.1278 - val_accuracy: 0.9505\n",
            "Epoch 38/50\n",
            "96/96 [==============================] - 55s 577ms/step - loss: 0.1380 - accuracy: 0.9439 - val_loss: 0.1287 - val_accuracy: 0.9414\n",
            "Epoch 39/50\n",
            "96/96 [==============================] - 53s 554ms/step - loss: 0.1540 - accuracy: 0.9396 - val_loss: 0.1391 - val_accuracy: 0.9362\n",
            "Epoch 40/50\n",
            "96/96 [==============================] - 51s 534ms/step - loss: 0.1445 - accuracy: 0.9423 - val_loss: 0.1282 - val_accuracy: 0.9531\n",
            "Epoch 41/50\n",
            "96/96 [==============================] - 52s 541ms/step - loss: 0.1431 - accuracy: 0.9419 - val_loss: 0.1309 - val_accuracy: 0.9427\n",
            "Epoch 42/50\n",
            "96/96 [==============================] - 54s 564ms/step - loss: 0.1347 - accuracy: 0.9488 - val_loss: 0.1339 - val_accuracy: 0.9440\n",
            "Epoch 43/50\n",
            "96/96 [==============================] - 50s 525ms/step - loss: 0.1422 - accuracy: 0.9408 - val_loss: 0.1289 - val_accuracy: 0.9388\n",
            "Epoch 44/50\n",
            "96/96 [==============================] - 52s 544ms/step - loss: 0.1432 - accuracy: 0.9432 - val_loss: 0.1264 - val_accuracy: 0.9466\n",
            "Epoch 45/50\n",
            "96/96 [==============================] - 51s 535ms/step - loss: 0.1382 - accuracy: 0.9462 - val_loss: 0.1334 - val_accuracy: 0.9362\n",
            "Epoch 46/50\n",
            "96/96 [==============================] - 51s 529ms/step - loss: 0.1393 - accuracy: 0.9419 - val_loss: 0.1269 - val_accuracy: 0.9479\n",
            "Epoch 47/50\n",
            "96/96 [==============================] - 52s 537ms/step - loss: 0.1348 - accuracy: 0.9439 - val_loss: 0.1260 - val_accuracy: 0.9466\n",
            "Epoch 48/50\n",
            "96/96 [==============================] - 50s 523ms/step - loss: 0.1350 - accuracy: 0.9495 - val_loss: 0.1214 - val_accuracy: 0.9492\n",
            "Epoch 49/50\n",
            "96/96 [==============================] - 53s 557ms/step - loss: 0.1311 - accuracy: 0.9482 - val_loss: 0.1299 - val_accuracy: 0.9427\n",
            "Epoch 50/50\n",
            "96/96 [==============================] - 54s 562ms/step - loss: 0.1301 - accuracy: 0.9455 - val_loss: 0.1256 - val_accuracy: 0.9427\n"
          ]
        }
      ]
    },
    {
      "cell_type": "code",
      "source": [
        "import matplotlib.pyplot as plt\n",
        "\n",
        "acc=history.history['accuracy']\n",
        "val_acc=history.history['val_accuracy']\n",
        "loss=history.history['loss']\n",
        "val_loss=history.history['val_loss']\n",
        "\n",
        "epochs=range(len(acc)) # Get number of epochs\n",
        "\n",
        "#------------------------------------------------\n",
        "# Plot training and validation accuracy per epoch\n",
        "#------------------------------------------------\n",
        "plt.plot(epochs, acc, 'r', \"Training Accuracy\")\n",
        "plt.plot(epochs, val_acc, 'b', \"Validation Accuracy\")\n",
        "plt.title('Training and validation accuracy')\n",
        "plt.show()\n",
        "print(\"\")\n",
        "\n",
        "#------------------------------------------------\n",
        "# Plot training and validation loss per epoch\n",
        "#------------------------------------------------\n",
        "plt.plot(epochs, loss, 'r', \"Training Loss\")\n",
        "plt.plot(epochs, val_loss, 'b', \"Validation Loss\")\n",
        "plt.show()"
      ],
      "metadata": {
        "colab": {
          "base_uri": "https://localhost:8080/",
          "height": 882
        },
        "id": "jg2QOI8tq2fL",
        "outputId": "d3ab8299-c236-4b4e-abb7-3635f7b7285c"
      },
      "execution_count": 19,
      "outputs": [
        {
          "output_type": "display_data",
          "data": {
            "text/plain": [
              "<Figure size 640x480 with 1 Axes>"
            ],
            "image/png": "[encoded data removed]"
          },
          "metadata": {}
        },
        {
          "output_type": "stream",
          "name": "stdout",
          "text": [
            "\n"
          ]
        },
        {
          "output_type": "display_data",
          "data": {
            "text/plain": [
              "<Figure size 640x480 with 1 Axes>"
            ],
            "image/png": "[encoded data removed]"
          },
          "metadata": {}
        }
      ]
    },
    {
      "cell_type": "code",
      "source": [
        "## NOTE: If you are using Safari and this cell throws an error,\n",
        "## please skip this block and run the next one instead.\n",
        "\n",
        "import numpy as np\n",
        "\n",
        "from google.colab import files\n",
        "from tensorflow.keras.utils import load_img, img_to_array\n",
        "\n",
        "uploaded=files.upload()\n",
        "\n",
        "for fn in uploaded.keys():\n",
        " \n",
        "  # predicting images\n",
        "  path='/content/' + fn\n",
        "  img=load_img(path, target_size=(224,224))\n",
        "  \n",
        "  x=img_to_array(img)\n",
        "  x /= 255\n",
        "  x=np.expand_dims(x, axis=0)\n",
        "  images = np.vstack([x])\n",
        "  \n",
        "  classes = model.predict(images, batch_size=10)\n",
        "\n",
        "  print(classes[0])\n",
        "  value=np.argmax(classes)\n",
        "  move_name=mapper(value)\n",
        "  \n",
        "  print(\"Prediction is {}.\".format(move_name))"
      ],
      "metadata": {
        "colab": {
          "base_uri": "https://localhost:8080/",
          "height": 123
        },
        "id": "FiKT_J_2q-zl",
        "outputId": "7582347d-98cd-4452-94df-1fb32bbf7e26"
      },
      "execution_count": 26,
      "outputs": [
        {
          "output_type": "display_data",
          "data": {
            "text/plain": [
              "<IPython.core.display.HTML object>"
            ],
            "text/html": [
              "\n",
              "     <input type=\"file\" id=\"files-4433170b-488b-4e33-951c-7ec61fcfae96\" name=\"files[]\" multiple disabled\n",
              "        style=\"border:none\" />\n",
              "     <output id=\"result-4433170b-488b-4e33-951c-7ec61fcfae96\">\n",
              "      Upload widget is only available when the cell has been executed in the\n",
              "      current browser session. Please rerun this cell to enable.\n",
              "      </output>\n",
              "      <script>// Copyright 2017 Google LLC\n",
              "//\n",
              "// Licensed under the Apache License, Version 2.0 (the \"License\");\n",
              "// you may not use this file except in compliance with the License.\n",
              "// You may obtain a copy of the License at\n",
              "//\n",
              "//      http://www.apache.org/licenses/LICENSE-2.0\n",
              "//\n",
              "// Unless required by applicable law or agreed to in writing, software\n",
              "// distributed under the License is distributed on an \"AS IS\" BASIS,\n",
              "// WITHOUT WARRANTIES OR CONDITIONS OF ANY KIND, either express or implied.\n",
              "// See the License for the specific language governing permissions and\n",
              "// limitations under the License.\n",
              "\n",
              "/**\n",
              " * @fileoverview Helpers for google.colab Python module.\n",
              " */\n",
              "(function(scope) {\n",
              "function span(text, styleAttributes = {}) {\n",
              "  const element = document.createElement('span');\n",
              "  element.textContent = text;\n",
              "  for (const key of Object.keys(styleAttributes)) {\n",
              "    element.style[key] = styleAttributes[key];\n",
              "  }\n",
              "  return element;\n",
              "}\n",
              "\n",
              "// Max number of bytes which will be uploaded at a time.\n",
              "const MAX_PAYLOAD_SIZE = 100 * 1024;\n",
              "\n",
              "function _uploadFiles(inputId, outputId) {\n",
              "  const steps = uploadFilesStep(inputId, outputId);\n",
              "  const outputElement = document.getElementById(outputId);\n",
              "  // Cache steps on the outputElement to make it available for the next call\n",
              "  // to uploadFilesContinue from Python.\n",
              "  outputElement.steps = steps;\n",
              "\n",
              "  return _uploadFilesContinue(outputId);\n",
              "}\n",
              "\n",
              "// This is roughly an async generator (not supported in the browser yet),\n",
              "// where there are multiple asynchronous steps and the Python side is going\n",
              "// to poll for completion of each step.\n",
              "// This uses a Promise to block the python side on completion of each step,\n",
              "// then passes the result of the previous step as the input to the next step.\n",
              "function _uploadFilesContinue(outputId) {\n",
              "  const outputElement = document.getElementById(outputId);\n",
              "  const steps = outputElement.steps;\n",
              "\n",
              "  const next = steps.next(outputElement.lastPromiseValue);\n",
              "  return Promise.resolve(next.value.promise).then((value) => {\n",
              "    // Cache the last promise value to make it available to the next\n",
              "    // step of the generator.\n",
              "    outputElement.lastPromiseValue = value;\n",
              "    return next.value.response;\n",
              "  });\n",
              "}\n",
              "\n",
              "/**\n",
              " * Generator function which is called between each async step of the upload\n",
              " * process.\n",
              " * @param {string} inputId Element ID of the input file picker element.\n",
              " * @param {string} outputId Element ID of the output display.\n",
              " * @return {!Iterable<!Object>} Iterable of next steps.\n",
              " */\n",
              "function* uploadFilesStep(inputId, outputId) {\n",
              "  const inputElement = document.getElementById(inputId);\n",
              "  inputElement.disabled = false;\n",
              "\n",
              "  const outputElement = document.getElementById(outputId);\n",
              "  outputElement.innerHTML = '';\n",
              "\n",
              "  const pickedPromise = new Promise((resolve) => {\n",
              "    inputElement.addEventListener('change', (e) => {\n",
              "      resolve(e.target.files);\n",
              "    });\n",
              "  });\n",
              "\n",
              "  const cancel = document.createElement('button');\n",
              "  inputElement.parentElement.appendChild(cancel);\n",
              "  cancel.textContent = 'Cancel upload';\n",
              "  const cancelPromise = new Promise((resolve) => {\n",
              "    cancel.onclick = () => {\n",
              "      resolve(null);\n",
              "    };\n",
              "  });\n",
              "\n",
              "  // Wait for the user to pick the files.\n",
              "  const files = yield {\n",
              "    promise: Promise.race([pickedPromise, cancelPromise]),\n",
              "    response: {\n",
              "      action: 'starting',\n",
              "    }\n",
              "  };\n",
              "\n",
              "  cancel.remove();\n",
              "\n",
              "  // Disable the input element since further picks are not allowed.\n",
              "  inputElement.disabled = true;\n",
              "\n",
              "  if (!files) {\n",
              "    return {\n",
              "      response: {\n",
              "        action: 'complete',\n",
              "      }\n",
              "    };\n",
              "  }\n",
              "\n",
              "  for (const file of files) {\n",
              "    const li = document.createElement('li');\n",
              "    li.append(span(file.name, {fontWeight: 'bold'}));\n",
              "    li.append(span(\n",
              "        `(${file.type || 'n/a'}) - ${file.size} bytes, ` +\n",
              "        `last modified: ${\n",
              "            file.lastModifiedDate ? file.lastModifiedDate.toLocaleDateString() :\n",
              "                                    'n/a'} - `));\n",
              "    const percent = span('0% done');\n",
              "    li.appendChild(percent);\n",
              "\n",
              "    outputElement.appendChild(li);\n",
              "\n",
              "    const fileDataPromise = new Promise((resolve) => {\n",
              "      const reader = new FileReader();\n",
              "      reader.onload = (e) => {\n",
              "        resolve(e.target.result);\n",
              "      };\n",
              "      reader.readAsArrayBuffer(file);\n",
              "    });\n",
              "    // Wait for the data to be ready.\n",
              "    let fileData = yield {\n",
              "      promise: fileDataPromise,\n",
              "      response: {\n",
              "        action: 'continue',\n",
              "      }\n",
              "    };\n",
              "\n",
              "    // Use a chunked sending to avoid message size limits. See b/62115660.\n",
              "    let position = 0;\n",
              "    do {\n",
              "      const length = Math.min(fileData.byteLength - position, MAX_PAYLOAD_SIZE);\n",
              "      const chunk = new Uint8Array(fileData, position, length);\n",
              "      position += length;\n",
              "\n",
              "      const base64 = btoa(String.fromCharCode.apply(null, chunk));\n",
              "      yield {\n",
              "        response: {\n",
              "          action: 'append',\n",
              "          file: file.name,\n",
              "          data: base64,\n",
              "        },\n",
              "      };\n",
              "\n",
              "      let percentDone = fileData.byteLength === 0 ?\n",
              "          100 :\n",
              "          Math.round((position / fileData.byteLength) * 100);\n",
              "      percent.textContent = `${percentDone}% done`;\n",
              "\n",
              "    } while (position < fileData.byteLength);\n",
              "  }\n",
              "\n",
              "  // All done.\n",
              "  yield {\n",
              "    response: {\n",
              "      action: 'complete',\n",
              "    }\n",
              "  };\n",
              "}\n",
              "\n",
              "scope.google = scope.google || {};\n",
              "scope.google.colab = scope.google.colab || {};\n",
              "scope.google.colab._files = {\n",
              "  _uploadFiles,\n",
              "  _uploadFilesContinue,\n",
              "};\n",
              "})(self);\n",
              "</script> "
            ]
          },
          "metadata": {}
        },
        {
          "output_type": "stream",
          "name": "stdout",
          "text": [
            "Saving spot corn.png to spot corn.png\n",
            "1/1 [==============================] - 0s 23ms/step\n",
            "[9.7879261e-01 8.3730947e-03 1.2775136e-02 5.9164988e-05]\n",
            "Prediction is Corn_(maize)___Common_rust_.\n"
          ]
        }
      ]
    }
  ]
}