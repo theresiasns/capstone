{
  "nbformat": 4,
  "nbformat_minor": 0,
  "metadata": {
    "colab": {
      "provenance": [],
      "gpuType": "T4",
      "include_colab_link": true
    },
    "kernelspec": {
      "name": "python3",
      "display_name": "Python 3"
    },
    "language_info": {
      "name": "python"
    },
    "accelerator": "GPU"
  },
  "cells": [
    {
      "cell_type": "markdown",
      "metadata": {
        "id": "view-in-github",
        "colab_type": "text"
      },
      "source": [
        "<a href=\"https://colab.research.google.com/github/theresiasns/capstone/blob/main/Paddy_Disease_Good_Prediction.ipynb\" target=\"_parent\"><img src=\"https://colab.research.google.com/assets/colab-badge.svg\" alt=\"Open In Colab\"/></a>"
      ]
    },
    {
      "cell_type": "code",
      "source": [
        "pip install --upgrade tensorflow"
      ],
      "metadata": {
        "colab": {
          "base_uri": "https://localhost:8080/"
        },
        "id": "drK3NPTZyRFO",
        "outputId": "b65007de-123b-4ff5-9b05-56260d29ed78"
      },
      "execution_count": 1,
      "outputs": [
        {
          "output_type": "stream",
          "name": "stdout",
          "text": [
            "Looking in indexes: https://pypi.org/simple, https://us-python.pkg.dev/colab-wheels/public/simple/\n",
            "Requirement already satisfied: tensorflow in /usr/local/lib/python3.10/dist-packages (2.12.0)\n",
            "Requirement already satisfied: absl-py>=1.0.0 in /usr/local/lib/python3.10/dist-packages (from tensorflow) (1.4.0)\n",
            "Requirement already satisfied: astunparse>=1.6.0 in /usr/local/lib/python3.10/dist-packages (from tensorflow) (1.6.3)\n",
            "Requirement already satisfied: flatbuffers>=2.0 in /usr/local/lib/python3.10/dist-packages (from tensorflow) (23.3.3)\n",
            "Requirement already satisfied: gast<=0.4.0,>=0.2.1 in /usr/local/lib/python3.10/dist-packages (from tensorflow) (0.4.0)\n",
            "Requirement already satisfied: google-pasta>=0.1.1 in /usr/local/lib/python3.10/dist-packages (from tensorflow) (0.2.0)\n",
            "Requirement already satisfied: grpcio<2.0,>=1.24.3 in /usr/local/lib/python3.10/dist-packages (from tensorflow) (1.54.0)\n",
            "Requirement already satisfied: h5py>=2.9.0 in /usr/local/lib/python3.10/dist-packages (from tensorflow) (3.8.0)\n",
            "Requirement already satisfied: jax>=0.3.15 in /usr/local/lib/python3.10/dist-packages (from tensorflow) (0.4.10)\n",
            "Requirement already satisfied: keras<2.13,>=2.12.0 in /usr/local/lib/python3.10/dist-packages (from tensorflow) (2.12.0)\n",
            "Requirement already satisfied: libclang>=13.0.0 in /usr/local/lib/python3.10/dist-packages (from tensorflow) (16.0.0)\n",
            "Requirement already satisfied: numpy<1.24,>=1.22 in /usr/local/lib/python3.10/dist-packages (from tensorflow) (1.22.4)\n",
            "Requirement already satisfied: opt-einsum>=2.3.2 in /usr/local/lib/python3.10/dist-packages (from tensorflow) (3.3.0)\n",
            "Requirement already satisfied: packaging in /usr/local/lib/python3.10/dist-packages (from tensorflow) (23.1)\n",
            "Requirement already satisfied: protobuf!=4.21.0,!=4.21.1,!=4.21.2,!=4.21.3,!=4.21.4,!=4.21.5,<5.0.0dev,>=3.20.3 in /usr/local/lib/python3.10/dist-packages (from tensorflow) (3.20.3)\n",
            "Requirement already satisfied: setuptools in /usr/local/lib/python3.10/dist-packages (from tensorflow) (67.7.2)\n",
            "Requirement already satisfied: six>=1.12.0 in /usr/local/lib/python3.10/dist-packages (from tensorflow) (1.16.0)\n",
            "Requirement already satisfied: tensorboard<2.13,>=2.12 in /usr/local/lib/python3.10/dist-packages (from tensorflow) (2.12.2)\n",
            "Requirement already satisfied: tensorflow-estimator<2.13,>=2.12.0 in /usr/local/lib/python3.10/dist-packages (from tensorflow) (2.12.0)\n",
            "Requirement already satisfied: termcolor>=1.1.0 in /usr/local/lib/python3.10/dist-packages (from tensorflow) (2.3.0)\n",
            "Requirement already satisfied: typing-extensions>=3.6.6 in /usr/local/lib/python3.10/dist-packages (from tensorflow) (4.5.0)\n",
            "Requirement already satisfied: wrapt<1.15,>=1.11.0 in /usr/local/lib/python3.10/dist-packages (from tensorflow) (1.14.1)\n",
            "Requirement already satisfied: tensorflow-io-gcs-filesystem>=0.23.1 in /usr/local/lib/python3.10/dist-packages (from tensorflow) (0.32.0)\n",
            "Requirement already satisfied: wheel<1.0,>=0.23.0 in /usr/local/lib/python3.10/dist-packages (from astunparse>=1.6.0->tensorflow) (0.40.0)\n",
            "Requirement already satisfied: ml-dtypes>=0.1.0 in /usr/local/lib/python3.10/dist-packages (from jax>=0.3.15->tensorflow) (0.1.0)\n",
            "Requirement already satisfied: scipy>=1.7 in /usr/local/lib/python3.10/dist-packages (from jax>=0.3.15->tensorflow) (1.10.1)\n",
            "Requirement already satisfied: google-auth<3,>=1.6.3 in /usr/local/lib/python3.10/dist-packages (from tensorboard<2.13,>=2.12->tensorflow) (2.17.3)\n",
            "Requirement already satisfied: google-auth-oauthlib<1.1,>=0.5 in /usr/local/lib/python3.10/dist-packages (from tensorboard<2.13,>=2.12->tensorflow) (1.0.0)\n",
            "Requirement already satisfied: markdown>=2.6.8 in /usr/local/lib/python3.10/dist-packages (from tensorboard<2.13,>=2.12->tensorflow) (3.4.3)\n",
            "Requirement already satisfied: requests<3,>=2.21.0 in /usr/local/lib/python3.10/dist-packages (from tensorboard<2.13,>=2.12->tensorflow) (2.27.1)\n",
            "Requirement already satisfied: tensorboard-data-server<0.8.0,>=0.7.0 in /usr/local/lib/python3.10/dist-packages (from tensorboard<2.13,>=2.12->tensorflow) (0.7.0)\n",
            "Requirement already satisfied: tensorboard-plugin-wit>=1.6.0 in /usr/local/lib/python3.10/dist-packages (from tensorboard<2.13,>=2.12->tensorflow) (1.8.1)\n",
            "Requirement already satisfied: werkzeug>=1.0.1 in /usr/local/lib/python3.10/dist-packages (from tensorboard<2.13,>=2.12->tensorflow) (2.3.0)\n",
            "Requirement already satisfied: cachetools<6.0,>=2.0.0 in /usr/local/lib/python3.10/dist-packages (from google-auth<3,>=1.6.3->tensorboard<2.13,>=2.12->tensorflow) (5.3.0)\n",
            "Requirement already satisfied: pyasn1-modules>=0.2.1 in /usr/local/lib/python3.10/dist-packages (from google-auth<3,>=1.6.3->tensorboard<2.13,>=2.12->tensorflow) (0.3.0)\n",
            "Requirement already satisfied: rsa<5,>=3.1.4 in /usr/local/lib/python3.10/dist-packages (from google-auth<3,>=1.6.3->tensorboard<2.13,>=2.12->tensorflow) (4.9)\n",
            "Requirement already satisfied: requests-oauthlib>=0.7.0 in /usr/local/lib/python3.10/dist-packages (from google-auth-oauthlib<1.1,>=0.5->tensorboard<2.13,>=2.12->tensorflow) (1.3.1)\n",
            "Requirement already satisfied: urllib3<1.27,>=1.21.1 in /usr/local/lib/python3.10/dist-packages (from requests<3,>=2.21.0->tensorboard<2.13,>=2.12->tensorflow) (1.26.15)\n",
            "Requirement already satisfied: certifi>=2017.4.17 in /usr/local/lib/python3.10/dist-packages (from requests<3,>=2.21.0->tensorboard<2.13,>=2.12->tensorflow) (2022.12.7)\n",
            "Requirement already satisfied: charset-normalizer~=2.0.0 in /usr/local/lib/python3.10/dist-packages (from requests<3,>=2.21.0->tensorboard<2.13,>=2.12->tensorflow) (2.0.12)\n",
            "Requirement already satisfied: idna<4,>=2.5 in /usr/local/lib/python3.10/dist-packages (from requests<3,>=2.21.0->tensorboard<2.13,>=2.12->tensorflow) (3.4)\n",
            "Requirement already satisfied: MarkupSafe>=2.1.1 in /usr/local/lib/python3.10/dist-packages (from werkzeug>=1.0.1->tensorboard<2.13,>=2.12->tensorflow) (2.1.2)\n",
            "Requirement already satisfied: pyasn1<0.6.0,>=0.4.6 in /usr/local/lib/python3.10/dist-packages (from pyasn1-modules>=0.2.1->google-auth<3,>=1.6.3->tensorboard<2.13,>=2.12->tensorflow) (0.5.0)\n",
            "Requirement already satisfied: oauthlib>=3.0.0 in /usr/local/lib/python3.10/dist-packages (from requests-oauthlib>=0.7.0->google-auth-oauthlib<1.1,>=0.5->tensorboard<2.13,>=2.12->tensorflow) (3.2.2)\n"
          ]
        }
      ]
    },
    {
      "cell_type": "code",
      "source": [
        "pip install tensorflow-addons"
      ],
      "metadata": {
        "colab": {
          "base_uri": "https://localhost:8080/"
        },
        "id": "dbHjVRWvyd_8",
        "outputId": "f7a449f0-0e6a-440f-e50f-1c876766628c"
      },
      "execution_count": 2,
      "outputs": [
        {
          "output_type": "stream",
          "name": "stdout",
          "text": [
            "Looking in indexes: https://pypi.org/simple, https://us-python.pkg.dev/colab-wheels/public/simple/\n",
            "Requirement already satisfied: tensorflow-addons in /usr/local/lib/python3.10/dist-packages (0.20.0)\n",
            "Requirement already satisfied: packaging in /usr/local/lib/python3.10/dist-packages (from tensorflow-addons) (23.1)\n",
            "Requirement already satisfied: typeguard<3.0.0,>=2.7 in /usr/local/lib/python3.10/dist-packages (from tensorflow-addons) (2.13.3)\n"
          ]
        }
      ]
    },
    {
      "cell_type": "code",
      "source": [
        "pip install keras-preprocessing"
      ],
      "metadata": {
        "colab": {
          "base_uri": "https://localhost:8080/"
        },
        "id": "uVwwmcjWz_5Z",
        "outputId": "3fa5f897-b8a3-4349-dd79-c04cd56592e9"
      },
      "execution_count": 3,
      "outputs": [
        {
          "output_type": "stream",
          "name": "stdout",
          "text": [
            "Looking in indexes: https://pypi.org/simple, https://us-python.pkg.dev/colab-wheels/public/simple/\n",
            "Requirement already satisfied: keras-preprocessing in /usr/local/lib/python3.10/dist-packages (1.1.2)\n",
            "Requirement already satisfied: numpy>=1.9.1 in /usr/local/lib/python3.10/dist-packages (from keras-preprocessing) (1.22.4)\n",
            "Requirement already satisfied: six>=1.9.0 in /usr/local/lib/python3.10/dist-packages (from keras-preprocessing) (1.16.0)\n"
          ]
        }
      ]
    },
    {
      "cell_type": "code",
      "source": [
        "import numpy as np\n",
        "import pandas as pd\n",
        "import os\n",
        "import matplotlib.pyplot as plt\n",
        "import tensorflow as tf\n",
        "\n",
        "from tensorflow.keras.utils import to_categorical\n",
        "from tensorflow.keras.preprocessing.image import load_img, img_to_array\n",
        "\n",
        "from sklearn.metrics import classification_report, log_loss, accuracy_score\n",
        "from sklearn.model_selection import train_test_split"
      ],
      "metadata": {
        "id": "LNsWtOLJ1K3o"
      },
      "execution_count": 4,
      "outputs": []
    },
    {
      "cell_type": "code",
      "source": [
        "from google.colab import drive\n",
        "import os\n",
        "\n",
        "drive.mount(\"/content/drive/\")"
      ],
      "metadata": {
        "colab": {
          "base_uri": "https://localhost:8080/"
        },
        "id": "kERdsfCsvcH7",
        "outputId": "2b4fd385-6a06-40c1-b11b-c89015556365"
      },
      "execution_count": 5,
      "outputs": [
        {
          "output_type": "stream",
          "name": "stdout",
          "text": [
            "Drive already mounted at /content/drive/; to attempt to forcibly remount, call drive.mount(\"/content/drive/\", force_remount=True).\n"
          ]
        }
      ]
    },
    {
      "cell_type": "code",
      "source": [
        "base_dir=\"/content/drive/MyDrive/dataset/\"\n",
        "!ls\"/content/drive/MyDrive/dataset/\""
      ],
      "metadata": {
        "colab": {
          "base_uri": "https://localhost:8080/"
        },
        "id": "DGadPX1cvxIj",
        "outputId": "80340727-973b-452a-d129-90c12f3fc9a7"
      },
      "execution_count": 6,
      "outputs": [
        {
          "output_type": "stream",
          "name": "stdout",
          "text": [
            "/bin/bash: ls/content/drive/MyDrive/dataset/: No such file or directory\n"
          ]
        }
      ]
    },
    {
      "cell_type": "code",
      "source": [
        "directory =os.path.join(base_dir,\"disease/\")"
      ],
      "metadata": {
        "id": "a-0t79BDVwVh"
      },
      "execution_count": 7,
      "outputs": []
    },
    {
      "cell_type": "code",
      "source": [
        "Name=[]\n",
        "for file in os.listdir(directory):\n",
        "    Name+=[file]\n",
        "print(Name)\n",
        "print(len(Name))"
      ],
      "metadata": {
        "colab": {
          "base_uri": "https://localhost:8080/"
        },
        "id": "h7D0ZtM21ZWM",
        "outputId": "ae507e15-311d-47be-bd3b-e6bef8bc8858"
      },
      "execution_count": 8,
      "outputs": [
        {
          "output_type": "stream",
          "name": "stdout",
          "text": [
            "['blast', 'blight', 'tungro']\n",
            "3\n"
          ]
        }
      ]
    },
    {
      "cell_type": "code",
      "source": [
        "N=[]\n",
        "for i in range(len(Name)):\n",
        "    N+=[i]\n",
        "    \n",
        "normal_mapping=dict(zip(Name,N)) \n",
        "reverse_mapping=dict(zip(N,Name)) \n",
        "\n",
        "def mapper(value):\n",
        "    return reverse_mapping[value]"
      ],
      "metadata": {
        "id": "tEron7Ik1fRG"
      },
      "execution_count": 9,
      "outputs": []
    },
    {
      "cell_type": "code",
      "source": [
        "dataset=[]\n",
        "testset=[]\n",
        "count=0\n",
        "for name in Name:\n",
        "    path=os.path.join(directory,name)\n",
        "    t=0\n",
        "    for im in os.listdir(path):\n",
        "        if im[-4:]=='.jpg':\n",
        "            image=load_img(os.path.join(path,im), grayscale=False, color_mode='rgb', target_size=(100,100))\n",
        "            image=img_to_array(image)\n",
        "            image=image/255.0\n",
        "            if t<60:\n",
        "                dataset.append([image,count])\n",
        "            else:   \n",
        "                testset.append([image,count])\n",
        "            t+=1\n",
        "    count=count+1"
      ],
      "metadata": {
        "id": "kEIBn2uV1jrd"
      },
      "execution_count": 10,
      "outputs": []
    },
    {
      "cell_type": "code",
      "source": [
        "data,labels0=zip(*dataset)\n",
        "test,tlabels0=zip(*testset)"
      ],
      "metadata": {
        "id": "P4iuit2yT9ip"
      },
      "execution_count": 11,
      "outputs": []
    },
    {
      "cell_type": "code",
      "source": [
        "labels1=to_categorical(labels0)\n",
        "data=np.array(data)\n",
        "labels=np.array(labels1)"
      ],
      "metadata": {
        "id": "SjccCyH5UHDE"
      },
      "execution_count": 12,
      "outputs": []
    },
    {
      "cell_type": "code",
      "source": [
        "tlabels1=to_categorical(tlabels0)\n",
        "test=np.array(test)\n",
        "tlabels=np.array(tlabels1)"
      ],
      "metadata": {
        "id": "qMi5FZYJUbXq"
      },
      "execution_count": 13,
      "outputs": []
    },
    {
      "cell_type": "code",
      "source": [
        "print(len(labels))\n",
        "print(len(tlabels))"
      ],
      "metadata": {
        "colab": {
          "base_uri": "https://localhost:8080/"
        },
        "id": "CG80_P7H15Rw",
        "outputId": "55789238-888d-4cac-911b-e9dea22c3588"
      },
      "execution_count": 14,
      "outputs": [
        {
          "output_type": "stream",
          "name": "stdout",
          "text": [
            "180\n",
            "60\n"
          ]
        }
      ]
    },
    {
      "cell_type": "code",
      "source": [
        "trainx,testx,trainy,testy=train_test_split(data,labels,test_size=0.2,random_state=44)"
      ],
      "metadata": {
        "id": "qXUpXxMj17nN"
      },
      "execution_count": 15,
      "outputs": []
    },
    {
      "cell_type": "code",
      "source": [
        "print(trainx.shape)\n",
        "print(testx.shape)\n",
        "print(trainy.shape)\n",
        "print(testy.shape)"
      ],
      "metadata": {
        "colab": {
          "base_uri": "https://localhost:8080/"
        },
        "id": "rH13QeDg19uY",
        "outputId": "dbdb85bb-013e-4090-b72c-0013e63a88ab"
      },
      "execution_count": 16,
      "outputs": [
        {
          "output_type": "stream",
          "name": "stdout",
          "text": [
            "(144, 100, 100, 3)\n",
            "(36, 100, 100, 3)\n",
            "(144, 3)\n",
            "(36, 3)\n"
          ]
        }
      ]
    },
    {
      "cell_type": "code",
      "source": [
        "datagen = tf.keras.preprocessing.image.ImageDataGenerator(\n",
        "    rotation_range=30,\n",
        "    width_shift_range=0.2,\n",
        "    height_shift_range=0.2,\n",
        "    shear_range=0.2,\n",
        "    zoom_range=0.2,\n",
        "    horizontal_flip=True,\n",
        "    vertical_flip=True,\n",
        "    fill_mode=\"nearest\")"
      ],
      "metadata": {
        "id": "epmeRfwO2AJi"
      },
      "execution_count": 17,
      "outputs": []
    },
    {
      "cell_type": "code",
      "source": [
        "# Load the pre-trained model without the top (classification) layers\n",
        "pretrained_model = tf.keras.applications.DenseNet201(weights='imagenet', input_shape=(100,100,3),include_top=False,pooling='avg')\n",
        "\n",
        "# Freeze the pre-trained layers so they are not updated during training\n",
        "for layer in pretrained_model.layers:\n",
        "  layer.trainable = False"
      ],
      "metadata": {
        "id": "QctlVqTa2UzT"
      },
      "execution_count": 18,
      "outputs": []
    },
    {
      "cell_type": "code",
      "source": [
        "from tensorflow.keras import layers\n",
        "from keras.layers import Flatten\n",
        "\n",
        "inputs = pretrained_model.input\n",
        "x = Flatten()(pretrained_model.output)\n",
        "x = tf.keras.layers.Dense(256, activation='relu')(x)\n",
        "outputs = tf.keras.layers.Dense(3, activation='softmax')(x)\n",
        "model = tf.keras.Model(inputs=inputs, outputs=outputs)"
      ],
      "metadata": {
        "id": "Vi0mv4Di2hiP"
      },
      "execution_count": 19,
      "outputs": []
    },
    {
      "cell_type": "code",
      "source": [],
      "metadata": {
        "id": "xt-vAZFzrnuw"
      },
      "execution_count": 19,
      "outputs": []
    },
    {
      "cell_type": "code",
      "source": [
        "from tensorflow.keras.optimizers import Adam\n",
        "\n",
        "model.compile(optimizer=Adam(learning_rate=0.0001),loss='categorical_crossentropy',metrics=['accuracy'])"
      ],
      "metadata": {
        "id": "uKgowujr2kO3"
      },
      "execution_count": 20,
      "outputs": []
    },
    {
      "cell_type": "code",
      "source": [
        "his=model.fit(datagen.flow(trainx,trainy,batch_size=32),validation_data=(testx,testy),epochs=30)"
      ],
      "metadata": {
        "colab": {
          "base_uri": "https://localhost:8080/"
        },
        "id": "uf9UjWa-2msl",
        "outputId": "883a7b32-27b5-4ccb-f484-f1c335e9b5b9"
      },
      "execution_count": 21,
      "outputs": [
        {
          "output_type": "stream",
          "name": "stdout",
          "text": [
            "Epoch 1/30\n",
            "5/5 [==============================] - 27s 2s/step - loss: 1.3391 - accuracy: 0.4236 - val_loss: 0.9716 - val_accuracy: 0.5556\n",
            "Epoch 2/30\n",
            "5/5 [==============================] - 1s 124ms/step - loss: 0.8468 - accuracy: 0.6319 - val_loss: 0.7531 - val_accuracy: 0.6389\n",
            "Epoch 3/30\n",
            "5/5 [==============================] - 1s 114ms/step - loss: 0.9126 - accuracy: 0.5903 - val_loss: 0.5934 - val_accuracy: 0.8333\n",
            "Epoch 4/30\n",
            "5/5 [==============================] - 1s 107ms/step - loss: 0.6385 - accuracy: 0.7847 - val_loss: 0.5030 - val_accuracy: 0.8889\n",
            "Epoch 5/30\n",
            "5/5 [==============================] - 1s 110ms/step - loss: 0.6030 - accuracy: 0.8056 - val_loss: 0.4696 - val_accuracy: 0.8889\n",
            "Epoch 6/30\n",
            "5/5 [==============================] - 1s 144ms/step - loss: 0.5839 - accuracy: 0.7917 - val_loss: 0.4033 - val_accuracy: 0.9167\n",
            "Epoch 7/30\n",
            "5/5 [==============================] - 1s 192ms/step - loss: 0.5201 - accuracy: 0.8333 - val_loss: 0.3405 - val_accuracy: 0.9444\n",
            "Epoch 8/30\n",
            "5/5 [==============================] - 1s 190ms/step - loss: 0.4837 - accuracy: 0.8542 - val_loss: 0.3123 - val_accuracy: 0.9722\n",
            "Epoch 9/30\n",
            "5/5 [==============================] - 1s 168ms/step - loss: 0.5216 - accuracy: 0.7917 - val_loss: 0.2882 - val_accuracy: 0.9444\n",
            "Epoch 10/30\n",
            "5/5 [==============================] - 1s 123ms/step - loss: 0.4842 - accuracy: 0.8194 - val_loss: 0.2683 - val_accuracy: 0.9444\n",
            "Epoch 11/30\n",
            "5/5 [==============================] - 1s 107ms/step - loss: 0.4206 - accuracy: 0.8542 - val_loss: 0.2684 - val_accuracy: 0.9444\n",
            "Epoch 12/30\n",
            "5/5 [==============================] - 1s 113ms/step - loss: 0.4191 - accuracy: 0.8542 - val_loss: 0.2416 - val_accuracy: 0.9444\n",
            "Epoch 13/30\n",
            "5/5 [==============================] - 1s 108ms/step - loss: 0.3344 - accuracy: 0.9236 - val_loss: 0.2357 - val_accuracy: 0.9722\n",
            "Epoch 14/30\n",
            "5/5 [==============================] - 1s 126ms/step - loss: 0.4044 - accuracy: 0.8403 - val_loss: 0.2151 - val_accuracy: 0.9722\n",
            "Epoch 15/30\n",
            "5/5 [==============================] - 1s 109ms/step - loss: 0.3766 - accuracy: 0.8611 - val_loss: 0.1973 - val_accuracy: 0.9722\n",
            "Epoch 16/30\n",
            "5/5 [==============================] - 1s 106ms/step - loss: 0.3362 - accuracy: 0.8819 - val_loss: 0.1805 - val_accuracy: 0.9722\n",
            "Epoch 17/30\n",
            "5/5 [==============================] - 1s 107ms/step - loss: 0.2993 - accuracy: 0.9097 - val_loss: 0.1850 - val_accuracy: 0.9722\n",
            "Epoch 18/30\n",
            "5/5 [==============================] - 1s 126ms/step - loss: 0.3274 - accuracy: 0.8889 - val_loss: 0.1901 - val_accuracy: 0.9722\n",
            "Epoch 19/30\n",
            "5/5 [==============================] - 1s 105ms/step - loss: 0.2974 - accuracy: 0.9236 - val_loss: 0.1783 - val_accuracy: 0.9722\n",
            "Epoch 20/30\n",
            "5/5 [==============================] - 1s 114ms/step - loss: 0.3090 - accuracy: 0.9306 - val_loss: 0.1637 - val_accuracy: 0.9722\n",
            "Epoch 21/30\n",
            "5/5 [==============================] - 1s 109ms/step - loss: 0.3113 - accuracy: 0.9028 - val_loss: 0.1594 - val_accuracy: 0.9722\n",
            "Epoch 22/30\n",
            "5/5 [==============================] - 1s 123ms/step - loss: 0.3136 - accuracy: 0.9028 - val_loss: 0.1498 - val_accuracy: 0.9722\n",
            "Epoch 23/30\n",
            "5/5 [==============================] - 1s 111ms/step - loss: 0.2880 - accuracy: 0.9167 - val_loss: 0.1472 - val_accuracy: 1.0000\n",
            "Epoch 24/30\n",
            "5/5 [==============================] - 1s 106ms/step - loss: 0.2708 - accuracy: 0.9306 - val_loss: 0.1452 - val_accuracy: 1.0000\n",
            "Epoch 25/30\n",
            "5/5 [==============================] - 1s 104ms/step - loss: 0.2914 - accuracy: 0.8958 - val_loss: 0.1257 - val_accuracy: 1.0000\n",
            "Epoch 26/30\n",
            "5/5 [==============================] - 1s 130ms/step - loss: 0.2675 - accuracy: 0.9306 - val_loss: 0.1234 - val_accuracy: 1.0000\n",
            "Epoch 27/30\n",
            "5/5 [==============================] - 1s 181ms/step - loss: 0.2488 - accuracy: 0.9306 - val_loss: 0.1162 - val_accuracy: 1.0000\n",
            "Epoch 28/30\n",
            "5/5 [==============================] - 1s 165ms/step - loss: 0.2268 - accuracy: 0.9306 - val_loss: 0.1222 - val_accuracy: 1.0000\n",
            "Epoch 29/30\n",
            "5/5 [==============================] - 1s 194ms/step - loss: 0.2213 - accuracy: 0.9306 - val_loss: 0.1363 - val_accuracy: 0.9722\n",
            "Epoch 30/30\n",
            "5/5 [==============================] - 1s 145ms/step - loss: 0.2013 - accuracy: 0.9444 - val_loss: 0.1251 - val_accuracy: 0.9722\n"
          ]
        }
      ]
    },
    {
      "cell_type": "code",
      "source": [],
      "metadata": {
        "id": "bp1HQlPspgH3"
      },
      "execution_count": 21,
      "outputs": []
    },
    {
      "cell_type": "code",
      "source": [],
      "metadata": {
        "id": "qaXCqolVqTU2"
      },
      "execution_count": 22,
      "outputs": []
    },
    {
      "cell_type": "code",
      "source": [],
      "metadata": {
        "colab": {
          "base_uri": "https://localhost:8080/"
        },
        "id": "3zmiSU9sqb0G",
        "outputId": "0acf3cee-c122-4eb0-8636-4447397160d6"
      },
      "execution_count": 23,
      "outputs": [
        {
          "output_type": "stream",
          "name": "stdout",
          "text": [
            "Epoch 1/30\n",
            "5/5 [==============================] - 16s 886ms/step - loss: 0.4616 - accuracy: 0.8542 - val_loss: 0.1260 - val_accuracy: 0.9722\n",
            "Epoch 2/30\n",
            "5/5 [==============================] - 1s 134ms/step - loss: 0.3101 - accuracy: 0.8819 - val_loss: 0.2132 - val_accuracy: 0.9444\n",
            "Epoch 3/30\n",
            "5/5 [==============================] - 1s 128ms/step - loss: 0.2554 - accuracy: 0.9097 - val_loss: 0.0836 - val_accuracy: 0.9722\n",
            "Epoch 4/30\n",
            "5/5 [==============================] - 1s 127ms/step - loss: 0.2487 - accuracy: 0.9028 - val_loss: 0.0940 - val_accuracy: 1.0000\n",
            "Epoch 5/30\n",
            "5/5 [==============================] - 1s 109ms/step - loss: 0.1633 - accuracy: 0.9375 - val_loss: 0.0901 - val_accuracy: 0.9722\n",
            "Epoch 6/30\n",
            "5/5 [==============================] - 1s 106ms/step - loss: 0.1410 - accuracy: 0.9653 - val_loss: 0.2219 - val_accuracy: 0.8889\n",
            "Epoch 7/30\n",
            "5/5 [==============================] - 1s 108ms/step - loss: 0.2085 - accuracy: 0.9375 - val_loss: 0.1941 - val_accuracy: 0.9444\n",
            "Epoch 8/30\n",
            "5/5 [==============================] - 1s 112ms/step - loss: 0.1222 - accuracy: 0.9444 - val_loss: 0.1980 - val_accuracy: 0.9167\n",
            "Epoch 9/30\n",
            "5/5 [==============================] - 1s 106ms/step - loss: 0.1304 - accuracy: 0.9514 - val_loss: 0.2350 - val_accuracy: 0.8889\n",
            "Epoch 10/30\n",
            "5/5 [==============================] - 1s 109ms/step - loss: 0.1380 - accuracy: 0.9444 - val_loss: 0.4222 - val_accuracy: 0.8333\n",
            "Epoch 11/30\n",
            "5/5 [==============================] - 1s 125ms/step - loss: 0.2345 - accuracy: 0.8958 - val_loss: 0.1541 - val_accuracy: 0.8889\n",
            "Epoch 12/30\n",
            "5/5 [==============================] - 1s 126ms/step - loss: 0.1040 - accuracy: 0.9514 - val_loss: 0.1338 - val_accuracy: 0.9722\n",
            "Epoch 13/30\n",
            "5/5 [==============================] - 1s 193ms/step - loss: 0.2436 - accuracy: 0.9375 - val_loss: 0.0688 - val_accuracy: 0.9722\n",
            "Epoch 14/30\n",
            "5/5 [==============================] - 1s 182ms/step - loss: 0.1320 - accuracy: 0.9375 - val_loss: 0.1875 - val_accuracy: 0.8889\n",
            "Epoch 15/30\n",
            "5/5 [==============================] - 1s 161ms/step - loss: 0.1414 - accuracy: 0.9306 - val_loss: 0.0851 - val_accuracy: 0.9722\n",
            "Epoch 16/30\n",
            "5/5 [==============================] - 1s 113ms/step - loss: 0.1581 - accuracy: 0.9375 - val_loss: 0.2600 - val_accuracy: 0.8889\n",
            "Epoch 17/30\n",
            "5/5 [==============================] - 1s 130ms/step - loss: 0.1504 - accuracy: 0.9583 - val_loss: 0.3056 - val_accuracy: 0.8611\n",
            "Epoch 18/30\n",
            "5/5 [==============================] - 1s 121ms/step - loss: 0.1021 - accuracy: 0.9583 - val_loss: 0.0716 - val_accuracy: 0.9722\n",
            "Epoch 19/30\n",
            "5/5 [==============================] - 1s 108ms/step - loss: 0.1239 - accuracy: 0.9583 - val_loss: 0.1653 - val_accuracy: 0.8889\n",
            "Epoch 20/30\n",
            "5/5 [==============================] - 1s 125ms/step - loss: 0.1051 - accuracy: 0.9653 - val_loss: 0.4712 - val_accuracy: 0.8889\n",
            "Epoch 21/30\n",
            "5/5 [==============================] - 1s 108ms/step - loss: 0.0722 - accuracy: 0.9722 - val_loss: 0.1962 - val_accuracy: 0.9444\n",
            "Epoch 22/30\n",
            "5/5 [==============================] - 1s 104ms/step - loss: 0.1356 - accuracy: 0.9583 - val_loss: 0.0908 - val_accuracy: 0.9722\n",
            "Epoch 23/30\n",
            "5/5 [==============================] - 1s 107ms/step - loss: 0.0788 - accuracy: 0.9722 - val_loss: 0.1763 - val_accuracy: 0.9167\n",
            "Epoch 24/30\n",
            "5/5 [==============================] - 1s 113ms/step - loss: 0.1769 - accuracy: 0.9375 - val_loss: 0.0668 - val_accuracy: 0.9444\n",
            "Epoch 25/30\n",
            "5/5 [==============================] - 1s 122ms/step - loss: 0.1926 - accuracy: 0.9375 - val_loss: 0.0636 - val_accuracy: 0.9722\n",
            "Epoch 26/30\n",
            "5/5 [==============================] - 1s 121ms/step - loss: 0.0621 - accuracy: 0.9792 - val_loss: 0.4285 - val_accuracy: 0.8333\n",
            "Epoch 27/30\n",
            "5/5 [==============================] - 1s 119ms/step - loss: 0.1156 - accuracy: 0.9444 - val_loss: 0.1106 - val_accuracy: 0.9444\n",
            "Epoch 28/30\n",
            "5/5 [==============================] - 1s 117ms/step - loss: 0.1030 - accuracy: 0.9514 - val_loss: 0.2638 - val_accuracy: 0.9167\n",
            "Epoch 29/30\n",
            "5/5 [==============================] - 1s 117ms/step - loss: 0.0543 - accuracy: 0.9861 - val_loss: 0.2274 - val_accuracy: 0.8889\n",
            "Epoch 30/30\n",
            "5/5 [==============================] - 1s 109ms/step - loss: 0.0856 - accuracy: 0.9722 - val_loss: 0.0916 - val_accuracy: 0.9722\n"
          ]
        }
      ]
    },
    {
      "cell_type": "code",
      "source": [
        "y_pred=model.predict(testx)\n",
        "pred=np.argmax(y_pred,axis=1)\n",
        "ground = np.argmax(testy,axis=1)\n",
        "print(classification_report(ground,pred))"
      ],
      "metadata": {
        "colab": {
          "base_uri": "https://localhost:8080/"
        },
        "id": "cdHJscND5gJ5",
        "outputId": "f01adb7d-2523-420c-f2f1-1c17acf7196c"
      },
      "execution_count": 24,
      "outputs": [
        {
          "output_type": "stream",
          "name": "stdout",
          "text": [
            "2/2 [==============================] - 4s 60ms/step\n",
            "              precision    recall  f1-score   support\n",
            "\n",
            "           0       0.94      1.00      0.97        15\n",
            "           1       1.00      1.00      1.00        13\n",
            "           2       1.00      0.88      0.93         8\n",
            "\n",
            "    accuracy                           0.97        36\n",
            "   macro avg       0.98      0.96      0.97        36\n",
            "weighted avg       0.97      0.97      0.97        36\n",
            "\n"
          ]
        }
      ]
    },
    {
      "cell_type": "code",
      "source": [
        "get_acc = his.history['accuracy']\n",
        "value_acc = his.history['val_accuracy']\n",
        "get_loss = his.history['loss']\n",
        "validation_loss = his.history['val_loss']\n",
        "\n",
        "epochs = range(len(get_acc))\n",
        "plt.plot(epochs, get_acc, 'r', label='Accuracy of Training data')\n",
        "plt.plot(epochs, value_acc, 'b', label='Accuracy of Validation data')\n",
        "plt.title('Training vs validation accuracy')\n",
        "plt.legend(loc=0)\n",
        "plt.figure()\n",
        "plt.show()"
      ],
      "metadata": {
        "colab": {
          "base_uri": "https://localhost:8080/",
          "height": 469
        },
        "id": "9ZsiLopX5qcc",
        "outputId": "040add94-e5c5-45be-f4a1-6a89007467a0"
      },
      "execution_count": 25,
      "outputs": [
        {
          "output_type": "display_data",
          "data": {
            "text/plain": [
              "<Figure size 640x480 with 1 Axes>"
            ],
            "image/png": "[encoded data removed]"
          },
          "metadata": {}
        },
        {
          "output_type": "display_data",
          "data": {
            "text/plain": [
              "<Figure size 640x480 with 0 Axes>"
            ]
          },
          "metadata": {}
        }
      ]
    },
    {
      "cell_type": "code",
      "source": [
        "epochs = range(len(get_loss))\n",
        "plt.plot(epochs, get_loss, 'r', label='Loss of Training data')\n",
        "plt.plot(epochs, validation_loss, 'b', label='Loss of Validation data')\n",
        "plt.title('Training vs validation loss')\n",
        "plt.legend(loc=0)\n",
        "plt.figure()\n",
        "plt.show()"
      ],
      "metadata": {
        "colab": {
          "base_uri": "https://localhost:8080/",
          "height": 469
        },
        "id": "p-hVjBz45v4k",
        "outputId": "78d1164c-a982-4446-c5c6-0f1472a3b8cc"
      },
      "execution_count": 26,
      "outputs": [
        {
          "output_type": "display_data",
          "data": {
            "text/plain": [
              "<Figure size 640x480 with 1 Axes>"
            ],
            "image/png": "[encoded data removed]"
          },
          "metadata": {}
        },
        {
          "output_type": "display_data",
          "data": {
            "text/plain": [
              "<Figure size 640x480 with 0 Axes>"
            ]
          },
          "metadata": {}
        }
      ]
    },
    {
      "cell_type": "code",
      "source": [
        "load_img(\"/content/drive/MyDrive/dataset/paddy-doctor/train_image/hispa/100003.jpg\",target_size=(100,100))"
      ],
      "metadata": {
        "colab": {
          "base_uri": "https://localhost:8080/",
          "height": 117
        },
        "id": "tWwMGzN07baW",
        "outputId": "350f2a83-17fd-4200-b386-53d2de33e250"
      },
      "execution_count": 27,
      "outputs": [
        {
          "output_type": "execute_result",
          "data": {
            "text/plain": [
              "<PIL.Image.Image image mode=RGB size=100x100 at 0x7F1908C8EA70>"
            ],
            "image/png": "[encoded data removed]"
          },
          "metadata": {},
          "execution_count": 27
        }
      ]
    },
    {
      "cell_type": "code",
      "source": [
        "load_img(\"/content/drive/MyDrive/dataset/disease/tungro/IMG_1028.jpg\",target_size=(100,100))"
      ],
      "metadata": {
        "colab": {
          "base_uri": "https://localhost:8080/",
          "height": 117
        },
        "id": "E9yYySNl6ZmP",
        "outputId": "16659e08-d15a-4afd-d526-4880d2fa4a88"
      },
      "execution_count": 28,
      "outputs": [
        {
          "output_type": "execute_result",
          "data": {
            "text/plain": [
              "<PIL.Image.Image image mode=RGB size=100x100 at 0x7F1908C63DC0>"
            ],
            "image/png": "[encoded data removed]"
          },
          "metadata": {},
          "execution_count": 28
        }
      ]
    },
    {
      "cell_type": "code",
      "source": [
        "image=load_img(\"/content/drive/MyDrive/dataset/disease/tungro/IMG_1028.jpg\",target_size=(100,100))\n",
        "\n",
        "image=img_to_array(image) \n",
        "image=image/255.0\n",
        "prediction_image=np.array(image)\n",
        "prediction_image= np.expand_dims(image, axis=0)"
      ],
      "metadata": {
        "id": "DoB7n9Rl7G5Q"
      },
      "execution_count": 29,
      "outputs": []
    },
    {
      "cell_type": "code",
      "source": [
        "image=load_img(\"/content/drive/MyDrive/dataset/paddy-doctor/train_image/hispa/100003.jpg\",target_size=(100,100))\n",
        "\n",
        "image=img_to_array(image) \n",
        "image=image/255.0\n",
        "prediction_image=np.array(image)\n",
        "prediction_image= np.expand_dims(image, axis=0)"
      ],
      "metadata": {
        "id": "CsMcKcQv7LAB"
      },
      "execution_count": 30,
      "outputs": []
    },
    {
      "cell_type": "code",
      "execution_count": 35,
      "metadata": {
        "id": "DoWp43WxJDNT",
        "colab": {
          "base_uri": "https://localhost:8080/",
          "height": 125
        },
        "outputId": "6c0982d6-0a78-4514-ef13-626d81b1ec88"
      },
      "outputs": [
        {
          "output_type": "display_data",
          "data": {
            "text/plain": [
              "<IPython.core.display.HTML object>"
            ],
            "text/html": [
              "\n",
              "     <input type=\"file\" id=\"files-7579cbbf-b218-4848-a2f1-14b5acc642b5\" name=\"files[]\" multiple disabled\n",
              "        style=\"border:none\" />\n",
              "     <output id=\"result-7579cbbf-b218-4848-a2f1-14b5acc642b5\">\n",
              "      Upload widget is only available when the cell has been executed in the\n",
              "      current browser session. Please rerun this cell to enable.\n",
              "      </output>\n",
              "      <script>// Copyright 2017 Google LLC\n",
              "//\n",
              "// Licensed under the Apache License, Version 2.0 (the \"License\");\n",
              "// you may not use this file except in compliance with the License.\n",
              "// You may obtain a copy of the License at\n",
              "//\n",
              "//      http://www.apache.org/licenses/LICENSE-2.0\n",
              "//\n",
              "// Unless required by applicable law or agreed to in writing, software\n",
              "// distributed under the License is distributed on an \"AS IS\" BASIS,\n",
              "// WITHOUT WARRANTIES OR CONDITIONS OF ANY KIND, either express or implied.\n",
              "// See the License for the specific language governing permissions and\n",
              "// limitations under the License.\n",
              "\n",
              "/**\n",
              " * @fileoverview Helpers for google.colab Python module.\n",
              " */\n",
              "(function(scope) {\n",
              "function span(text, styleAttributes = {}) {\n",
              "  const element = document.createElement('span');\n",
              "  element.textContent = text;\n",
              "  for (const key of Object.keys(styleAttributes)) {\n",
              "    element.style[key] = styleAttributes[key];\n",
              "  }\n",
              "  return element;\n",
              "}\n",
              "\n",
              "// Max number of bytes which will be uploaded at a time.\n",
              "const MAX_PAYLOAD_SIZE = 100 * 1024;\n",
              "\n",
              "function _uploadFiles(inputId, outputId) {\n",
              "  const steps = uploadFilesStep(inputId, outputId);\n",
              "  const outputElement = document.getElementById(outputId);\n",
              "  // Cache steps on the outputElement to make it available for the next call\n",
              "  // to uploadFilesContinue from Python.\n",
              "  outputElement.steps = steps;\n",
              "\n",
              "  return _uploadFilesContinue(outputId);\n",
              "}\n",
              "\n",
              "// This is roughly an async generator (not supported in the browser yet),\n",
              "// where there are multiple asynchronous steps and the Python side is going\n",
              "// to poll for completion of each step.\n",
              "// This uses a Promise to block the python side on completion of each step,\n",
              "// then passes the result of the previous step as the input to the next step.\n",
              "function _uploadFilesContinue(outputId) {\n",
              "  const outputElement = document.getElementById(outputId);\n",
              "  const steps = outputElement.steps;\n",
              "\n",
              "  const next = steps.next(outputElement.lastPromiseValue);\n",
              "  return Promise.resolve(next.value.promise).then((value) => {\n",
              "    // Cache the last promise value to make it available to the next\n",
              "    // step of the generator.\n",
              "    outputElement.lastPromiseValue = value;\n",
              "    return next.value.response;\n",
              "  });\n",
              "}\n",
              "\n",
              "/**\n",
              " * Generator function which is called between each async step of the upload\n",
              " * process.\n",
              " * @param {string} inputId Element ID of the input file picker element.\n",
              " * @param {string} outputId Element ID of the output display.\n",
              " * @return {!Iterable<!Object>} Iterable of next steps.\n",
              " */\n",
              "function* uploadFilesStep(inputId, outputId) {\n",
              "  const inputElement = document.getElementById(inputId);\n",
              "  inputElement.disabled = false;\n",
              "\n",
              "  const outputElement = document.getElementById(outputId);\n",
              "  outputElement.innerHTML = '';\n",
              "\n",
              "  const pickedPromise = new Promise((resolve) => {\n",
              "    inputElement.addEventListener('change', (e) => {\n",
              "      resolve(e.target.files);\n",
              "    });\n",
              "  });\n",
              "\n",
              "  const cancel = document.createElement('button');\n",
              "  inputElement.parentElement.appendChild(cancel);\n",
              "  cancel.textContent = 'Cancel upload';\n",
              "  const cancelPromise = new Promise((resolve) => {\n",
              "    cancel.onclick = () => {\n",
              "      resolve(null);\n",
              "    };\n",
              "  });\n",
              "\n",
              "  // Wait for the user to pick the files.\n",
              "  const files = yield {\n",
              "    promise: Promise.race([pickedPromise, cancelPromise]),\n",
              "    response: {\n",
              "      action: 'starting',\n",
              "    }\n",
              "  };\n",
              "\n",
              "  cancel.remove();\n",
              "\n",
              "  // Disable the input element since further picks are not allowed.\n",
              "  inputElement.disabled = true;\n",
              "\n",
              "  if (!files) {\n",
              "    return {\n",
              "      response: {\n",
              "        action: 'complete',\n",
              "      }\n",
              "    };\n",
              "  }\n",
              "\n",
              "  for (const file of files) {\n",
              "    const li = document.createElement('li');\n",
              "    li.append(span(file.name, {fontWeight: 'bold'}));\n",
              "    li.append(span(\n",
              "        `(${file.type || 'n/a'}) - ${file.size} bytes, ` +\n",
              "        `last modified: ${\n",
              "            file.lastModifiedDate ? file.lastModifiedDate.toLocaleDateString() :\n",
              "                                    'n/a'} - `));\n",
              "    const percent = span('0% done');\n",
              "    li.appendChild(percent);\n",
              "\n",
              "    outputElement.appendChild(li);\n",
              "\n",
              "    const fileDataPromise = new Promise((resolve) => {\n",
              "      const reader = new FileReader();\n",
              "      reader.onload = (e) => {\n",
              "        resolve(e.target.result);\n",
              "      };\n",
              "      reader.readAsArrayBuffer(file);\n",
              "    });\n",
              "    // Wait for the data to be ready.\n",
              "    let fileData = yield {\n",
              "      promise: fileDataPromise,\n",
              "      response: {\n",
              "        action: 'continue',\n",
              "      }\n",
              "    };\n",
              "\n",
              "    // Use a chunked sending to avoid message size limits. See b/62115660.\n",
              "    let position = 0;\n",
              "    do {\n",
              "      const length = Math.min(fileData.byteLength - position, MAX_PAYLOAD_SIZE);\n",
              "      const chunk = new Uint8Array(fileData, position, length);\n",
              "      position += length;\n",
              "\n",
              "      const base64 = btoa(String.fromCharCode.apply(null, chunk));\n",
              "      yield {\n",
              "        response: {\n",
              "          action: 'append',\n",
              "          file: file.name,\n",
              "          data: base64,\n",
              "        },\n",
              "      };\n",
              "\n",
              "      let percentDone = fileData.byteLength === 0 ?\n",
              "          100 :\n",
              "          Math.round((position / fileData.byteLength) * 100);\n",
              "      percent.textContent = `${percentDone}% done`;\n",
              "\n",
              "    } while (position < fileData.byteLength);\n",
              "  }\n",
              "\n",
              "  // All done.\n",
              "  yield {\n",
              "    response: {\n",
              "      action: 'complete',\n",
              "    }\n",
              "  };\n",
              "}\n",
              "\n",
              "scope.google = scope.google || {};\n",
              "scope.google.colab = scope.google.colab || {};\n",
              "scope.google.colab._files = {\n",
              "  _uploadFiles,\n",
              "  _uploadFilesContinue,\n",
              "};\n",
              "})(self);\n",
              "</script> "
            ]
          },
          "metadata": {}
        },
        {
          "output_type": "stream",
          "name": "stdout",
          "text": [
            "Saving blight.jpg to blight.jpg\n",
            "1/1 [==============================] - 0s 37ms/step\n",
            "[0.0048232  0.72956353 0.26561326]\n",
            "Prediction is blight.\n"
          ]
        }
      ],
      "source": [
        "## NOTE: If you are using Safari and this cell throws an error,\n",
        "## please skip this block and run the next one instead.\n",
        "\n",
        "import numpy as np\n",
        "\n",
        "from google.colab import files\n",
        "from tensorflow.keras.utils import load_img, img_to_array\n",
        "\n",
        "uploaded=files.upload()\n",
        "\n",
        "for fn in uploaded.keys():\n",
        " \n",
        "  # predicting images\n",
        "  path='/content/' + fn\n",
        "  img=load_img(path, target_size=(150, 150))\n",
        "  \n",
        "  x=img_to_array(img)\n",
        "  x /= 255\n",
        "  x=np.expand_dims(x, axis=0)\n",
        "  images = np.vstack([x])\n",
        "  \n",
        "  classes = model.predict(images, batch_size=10)\n",
        "\n",
        "  print(classes[0])\n",
        "  value=np.argmax(classes)\n",
        "  move_name=mapper(value)\n",
        "  \n",
        "  print(\"Prediction is {}.\".format(move_name))\n",
        " "
      ]
    },
    {
      "cell_type": "code",
      "source": [],
      "metadata": {
        "id": "kavhVemM_qRx"
      },
      "execution_count": 31,
      "outputs": []
    },
    {
      "cell_type": "code",
      "source": [
        "print(test.shape)\n",
        "prediction2=model.predict(test)\n",
        "print(prediction2.shape)\n",
        "\n",
        "PRED=[]\n",
        "for item in prediction2:\n",
        "    value2=np.argmax(item)      \n",
        "    PRED+=[value2]"
      ],
      "metadata": {
        "id": "WkjTePve_suR",
        "colab": {
          "base_uri": "https://localhost:8080/"
        },
        "outputId": "b5ec5699-18c5-40c4-db1d-e9294095c02c"
      },
      "execution_count": 32,
      "outputs": [
        {
          "output_type": "stream",
          "name": "stdout",
          "text": [
            "(60, 100, 100, 3)\n",
            "2/2 [==============================] - 5s 5s/step\n",
            "(60, 3)\n"
          ]
        }
      ]
    },
    {
      "cell_type": "code",
      "source": [
        "ANS=tlabels0"
      ],
      "metadata": {
        "id": "5a5V-jyB_uRm"
      },
      "execution_count": 33,
      "outputs": []
    },
    {
      "cell_type": "code",
      "source": [
        "accuracy=accuracy_score(ANS,PRED)\n",
        "print(accuracy)"
      ],
      "metadata": {
        "id": "m3L9Y6ll_v6o",
        "colab": {
          "base_uri": "https://localhost:8080/"
        },
        "outputId": "53495d08-321c-4cbb-91bb-9c4da808d849"
      },
      "execution_count": 34,
      "outputs": [
        {
          "output_type": "stream",
          "name": "stdout",
          "text": [
            "0.8666666666666667\n"
          ]
        }
      ]
    },
    {
      "cell_type": "code",
      "source": [],
      "metadata": {
        "id": "tDwa6A4KN1ev"
      },
      "execution_count": 38,
      "outputs": []
    }
  ]
}