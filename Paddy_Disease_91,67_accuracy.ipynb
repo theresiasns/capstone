{
  "nbformat": 4,
  "nbformat_minor": 0,
  "metadata": {
    "colab": {
      "provenance": [],
      "gpuType": "T4",
      "include_colab_link": true
    },
    "kernelspec": {
      "name": "python3",
      "display_name": "Python 3"
    },
    "language_info": {
      "name": "python"
    },
    "accelerator": "GPU"
  },
  "cells": [
    {
      "cell_type": "markdown",
      "metadata": {
        "id": "view-in-github",
        "colab_type": "text"
      },
      "source": [
        "<a href=\"https://colab.research.google.com/github/theresiasns/capstone/blob/main/Paddy_Disease_91%2C67_accuracy.ipynb\" target=\"_parent\"><img src=\"https://colab.research.google.com/assets/colab-badge.svg\" alt=\"Open In Colab\"/></a>"
      ]
    },
    {
      "cell_type": "code",
      "source": [
        "pip install --upgrade tensorflow"
      ],
      "metadata": {
        "colab": {
          "base_uri": "https://localhost:8080/"
        },
        "id": "drK3NPTZyRFO",
        "outputId": "61944fd3-16b4-436c-9418-78c063e847da"
      },
      "execution_count": 1,
      "outputs": [
        {
          "output_type": "stream",
          "name": "stdout",
          "text": [
            "Looking in indexes: https://pypi.org/simple, https://us-python.pkg.dev/colab-wheels/public/simple/\n",
            "Requirement already satisfied: tensorflow in /usr/local/lib/python3.10/dist-packages (2.12.0)\n",
            "Requirement already satisfied: absl-py>=1.0.0 in /usr/local/lib/python3.10/dist-packages (from tensorflow) (1.4.0)\n",
            "Requirement already satisfied: astunparse>=1.6.0 in /usr/local/lib/python3.10/dist-packages (from tensorflow) (1.6.3)\n",
            "Requirement already satisfied: flatbuffers>=2.0 in /usr/local/lib/python3.10/dist-packages (from tensorflow) (23.3.3)\n",
            "Requirement already satisfied: gast<=0.4.0,>=0.2.1 in /usr/local/lib/python3.10/dist-packages (from tensorflow) (0.4.0)\n",
            "Requirement already satisfied: google-pasta>=0.1.1 in /usr/local/lib/python3.10/dist-packages (from tensorflow) (0.2.0)\n",
            "Requirement already satisfied: grpcio<2.0,>=1.24.3 in /usr/local/lib/python3.10/dist-packages (from tensorflow) (1.54.0)\n",
            "Requirement already satisfied: h5py>=2.9.0 in /usr/local/lib/python3.10/dist-packages (from tensorflow) (3.8.0)\n",
            "Requirement already satisfied: jax>=0.3.15 in /usr/local/lib/python3.10/dist-packages (from tensorflow) (0.4.10)\n",
            "Requirement already satisfied: keras<2.13,>=2.12.0 in /usr/local/lib/python3.10/dist-packages (from tensorflow) (2.12.0)\n",
            "Requirement already satisfied: libclang>=13.0.0 in /usr/local/lib/python3.10/dist-packages (from tensorflow) (16.0.0)\n",
            "Requirement already satisfied: numpy<1.24,>=1.22 in /usr/local/lib/python3.10/dist-packages (from tensorflow) (1.22.4)\n",
            "Requirement already satisfied: opt-einsum>=2.3.2 in /usr/local/lib/python3.10/dist-packages (from tensorflow) (3.3.0)\n",
            "Requirement already satisfied: packaging in /usr/local/lib/python3.10/dist-packages (from tensorflow) (23.1)\n",
            "Requirement already satisfied: protobuf!=4.21.0,!=4.21.1,!=4.21.2,!=4.21.3,!=4.21.4,!=4.21.5,<5.0.0dev,>=3.20.3 in /usr/local/lib/python3.10/dist-packages (from tensorflow) (3.20.3)\n",
            "Requirement already satisfied: setuptools in /usr/local/lib/python3.10/dist-packages (from tensorflow) (67.7.2)\n",
            "Requirement already satisfied: six>=1.12.0 in /usr/local/lib/python3.10/dist-packages (from tensorflow) (1.16.0)\n",
            "Requirement already satisfied: tensorboard<2.13,>=2.12 in /usr/local/lib/python3.10/dist-packages (from tensorflow) (2.12.2)\n",
            "Requirement already satisfied: tensorflow-estimator<2.13,>=2.12.0 in /usr/local/lib/python3.10/dist-packages (from tensorflow) (2.12.0)\n",
            "Requirement already satisfied: termcolor>=1.1.0 in /usr/local/lib/python3.10/dist-packages (from tensorflow) (2.3.0)\n",
            "Requirement already satisfied: typing-extensions>=3.6.6 in /usr/local/lib/python3.10/dist-packages (from tensorflow) (4.5.0)\n",
            "Requirement already satisfied: wrapt<1.15,>=1.11.0 in /usr/local/lib/python3.10/dist-packages (from tensorflow) (1.14.1)\n",
            "Requirement already satisfied: tensorflow-io-gcs-filesystem>=0.23.1 in /usr/local/lib/python3.10/dist-packages (from tensorflow) (0.32.0)\n",
            "Requirement already satisfied: wheel<1.0,>=0.23.0 in /usr/local/lib/python3.10/dist-packages (from astunparse>=1.6.0->tensorflow) (0.40.0)\n",
            "Requirement already satisfied: ml-dtypes>=0.1.0 in /usr/local/lib/python3.10/dist-packages (from jax>=0.3.15->tensorflow) (0.1.0)\n",
            "Requirement already satisfied: scipy>=1.7 in /usr/local/lib/python3.10/dist-packages (from jax>=0.3.15->tensorflow) (1.10.1)\n",
            "Requirement already satisfied: google-auth<3,>=1.6.3 in /usr/local/lib/python3.10/dist-packages (from tensorboard<2.13,>=2.12->tensorflow) (2.17.3)\n",
            "Requirement already satisfied: google-auth-oauthlib<1.1,>=0.5 in /usr/local/lib/python3.10/dist-packages (from tensorboard<2.13,>=2.12->tensorflow) (1.0.0)\n",
            "Requirement already satisfied: markdown>=2.6.8 in /usr/local/lib/python3.10/dist-packages (from tensorboard<2.13,>=2.12->tensorflow) (3.4.3)\n",
            "Requirement already satisfied: requests<3,>=2.21.0 in /usr/local/lib/python3.10/dist-packages (from tensorboard<2.13,>=2.12->tensorflow) (2.27.1)\n",
            "Requirement already satisfied: tensorboard-data-server<0.8.0,>=0.7.0 in /usr/local/lib/python3.10/dist-packages (from tensorboard<2.13,>=2.12->tensorflow) (0.7.0)\n",
            "Requirement already satisfied: tensorboard-plugin-wit>=1.6.0 in /usr/local/lib/python3.10/dist-packages (from tensorboard<2.13,>=2.12->tensorflow) (1.8.1)\n",
            "Requirement already satisfied: werkzeug>=1.0.1 in /usr/local/lib/python3.10/dist-packages (from tensorboard<2.13,>=2.12->tensorflow) (2.3.0)\n",
            "Requirement already satisfied: cachetools<6.0,>=2.0.0 in /usr/local/lib/python3.10/dist-packages (from google-auth<3,>=1.6.3->tensorboard<2.13,>=2.12->tensorflow) (5.3.0)\n",
            "Requirement already satisfied: pyasn1-modules>=0.2.1 in /usr/local/lib/python3.10/dist-packages (from google-auth<3,>=1.6.3->tensorboard<2.13,>=2.12->tensorflow) (0.3.0)\n",
            "Requirement already satisfied: rsa<5,>=3.1.4 in /usr/local/lib/python3.10/dist-packages (from google-auth<3,>=1.6.3->tensorboard<2.13,>=2.12->tensorflow) (4.9)\n",
            "Requirement already satisfied: requests-oauthlib>=0.7.0 in /usr/local/lib/python3.10/dist-packages (from google-auth-oauthlib<1.1,>=0.5->tensorboard<2.13,>=2.12->tensorflow) (1.3.1)\n",
            "Requirement already satisfied: urllib3<1.27,>=1.21.1 in /usr/local/lib/python3.10/dist-packages (from requests<3,>=2.21.0->tensorboard<2.13,>=2.12->tensorflow) (1.26.15)\n",
            "Requirement already satisfied: certifi>=2017.4.17 in /usr/local/lib/python3.10/dist-packages (from requests<3,>=2.21.0->tensorboard<2.13,>=2.12->tensorflow) (2022.12.7)\n",
            "Requirement already satisfied: charset-normalizer~=2.0.0 in /usr/local/lib/python3.10/dist-packages (from requests<3,>=2.21.0->tensorboard<2.13,>=2.12->tensorflow) (2.0.12)\n",
            "Requirement already satisfied: idna<4,>=2.5 in /usr/local/lib/python3.10/dist-packages (from requests<3,>=2.21.0->tensorboard<2.13,>=2.12->tensorflow) (3.4)\n",
            "Requirement already satisfied: MarkupSafe>=2.1.1 in /usr/local/lib/python3.10/dist-packages (from werkzeug>=1.0.1->tensorboard<2.13,>=2.12->tensorflow) (2.1.2)\n",
            "Requirement already satisfied: pyasn1<0.6.0,>=0.4.6 in /usr/local/lib/python3.10/dist-packages (from pyasn1-modules>=0.2.1->google-auth<3,>=1.6.3->tensorboard<2.13,>=2.12->tensorflow) (0.5.0)\n",
            "Requirement already satisfied: oauthlib>=3.0.0 in /usr/local/lib/python3.10/dist-packages (from requests-oauthlib>=0.7.0->google-auth-oauthlib<1.1,>=0.5->tensorboard<2.13,>=2.12->tensorflow) (3.2.2)\n"
          ]
        }
      ]
    },
    {
      "cell_type": "code",
      "source": [
        "pip install tensorflow-addons"
      ],
      "metadata": {
        "colab": {
          "base_uri": "https://localhost:8080/"
        },
        "id": "dbHjVRWvyd_8",
        "outputId": "f7649992-a79f-48ab-9bba-94f6a03b1b9b"
      },
      "execution_count": 2,
      "outputs": [
        {
          "output_type": "stream",
          "name": "stdout",
          "text": [
            "Looking in indexes: https://pypi.org/simple, https://us-python.pkg.dev/colab-wheels/public/simple/\n",
            "Requirement already satisfied: tensorflow-addons in /usr/local/lib/python3.10/dist-packages (0.20.0)\n",
            "Requirement already satisfied: packaging in /usr/local/lib/python3.10/dist-packages (from tensorflow-addons) (23.1)\n",
            "Requirement already satisfied: typeguard<3.0.0,>=2.7 in /usr/local/lib/python3.10/dist-packages (from tensorflow-addons) (2.13.3)\n"
          ]
        }
      ]
    },
    {
      "cell_type": "code",
      "source": [
        "pip install keras-preprocessing"
      ],
      "metadata": {
        "colab": {
          "base_uri": "https://localhost:8080/"
        },
        "id": "uVwwmcjWz_5Z",
        "outputId": "54bcf167-af96-4336-8dcf-d577be6d4224"
      },
      "execution_count": 3,
      "outputs": [
        {
          "output_type": "stream",
          "name": "stdout",
          "text": [
            "Looking in indexes: https://pypi.org/simple, https://us-python.pkg.dev/colab-wheels/public/simple/\n",
            "Requirement already satisfied: keras-preprocessing in /usr/local/lib/python3.10/dist-packages (1.1.2)\n",
            "Requirement already satisfied: numpy>=1.9.1 in /usr/local/lib/python3.10/dist-packages (from keras-preprocessing) (1.22.4)\n",
            "Requirement already satisfied: six>=1.9.0 in /usr/local/lib/python3.10/dist-packages (from keras-preprocessing) (1.16.0)\n"
          ]
        }
      ]
    },
    {
      "cell_type": "code",
      "source": [
        "import numpy as np\n",
        "import pandas as pd\n",
        "import os\n",
        "import matplotlib.pyplot as plt\n",
        "import tensorflow as tf\n",
        "\n",
        "from tensorflow.keras.utils import to_categorical\n",
        "from tensorflow.keras.preprocessing.image import load_img, img_to_array\n",
        "\n",
        "from sklearn.metrics import classification_report, log_loss, accuracy_score\n",
        "from sklearn.model_selection import train_test_split"
      ],
      "metadata": {
        "id": "LNsWtOLJ1K3o"
      },
      "execution_count": 4,
      "outputs": []
    },
    {
      "cell_type": "code",
      "source": [
        "from google.colab import drive\n",
        "import os\n",
        "\n",
        "drive.mount(\"/content/drive/\")"
      ],
      "metadata": {
        "colab": {
          "base_uri": "https://localhost:8080/"
        },
        "id": "kERdsfCsvcH7",
        "outputId": "75a41eb1-9542-4a44-f53b-e48cf8b2d1e1"
      },
      "execution_count": 5,
      "outputs": [
        {
          "output_type": "stream",
          "name": "stdout",
          "text": [
            "Drive already mounted at /content/drive/; to attempt to forcibly remount, call drive.mount(\"/content/drive/\", force_remount=True).\n"
          ]
        }
      ]
    },
    {
      "cell_type": "code",
      "source": [
        "base_dir=\"/content/drive/MyDrive/dataset/\"\n",
        "!ls\"/content/drive/MyDrive/dataset/\""
      ],
      "metadata": {
        "colab": {
          "base_uri": "https://localhost:8080/"
        },
        "id": "DGadPX1cvxIj",
        "outputId": "1b8996a2-3b43-4a00-d332-e78cff183765"
      },
      "execution_count": 6,
      "outputs": [
        {
          "output_type": "stream",
          "name": "stdout",
          "text": [
            "/bin/bash: ls/content/drive/MyDrive/dataset/: No such file or directory\n"
          ]
        }
      ]
    },
    {
      "cell_type": "code",
      "source": [
        "directory =os.path.join(base_dir,\"disease/\")"
      ],
      "metadata": {
        "id": "a-0t79BDVwVh"
      },
      "execution_count": 7,
      "outputs": []
    },
    {
      "cell_type": "code",
      "source": [
        "Name=[]\n",
        "for file in os.listdir(directory):\n",
        "    Name+=[file]\n",
        "print(Name)\n",
        "print(len(Name))"
      ],
      "metadata": {
        "colab": {
          "base_uri": "https://localhost:8080/"
        },
        "id": "h7D0ZtM21ZWM",
        "outputId": "7e0a81f8-0fcd-40e7-b841-2cef407c1215"
      },
      "execution_count": 8,
      "outputs": [
        {
          "output_type": "stream",
          "name": "stdout",
          "text": [
            "['blast', 'blight', 'tungro']\n",
            "3\n"
          ]
        }
      ]
    },
    {
      "cell_type": "code",
      "source": [
        "N=[]\n",
        "for i in range(len(Name)):\n",
        "    N+=[i]\n",
        "    \n",
        "normal_mapping=dict(zip(Name,N)) \n",
        "reverse_mapping=dict(zip(N,Name)) \n",
        "\n",
        "def mapper(value):\n",
        "    return reverse_mapping[value]"
      ],
      "metadata": {
        "id": "tEron7Ik1fRG"
      },
      "execution_count": 9,
      "outputs": []
    },
    {
      "cell_type": "code",
      "source": [
        "dataset=[]\n",
        "testset=[]\n",
        "count=0\n",
        "for name in Name:\n",
        "    path=os.path.join(directory,name)\n",
        "    t=0\n",
        "    for im in os.listdir(path):\n",
        "        if im[-4:]=='.jpg':\n",
        "            image=load_img(os.path.join(path,im), grayscale=False, color_mode='rgb', target_size=(100,100))\n",
        "            image=img_to_array(image)\n",
        "            image=image/255.0\n",
        "            if t<60:\n",
        "                dataset.append([image,count])\n",
        "            else:   \n",
        "                testset.append([image,count])\n",
        "            t+=1\n",
        "    count=count+1"
      ],
      "metadata": {
        "id": "kEIBn2uV1jrd"
      },
      "execution_count": 10,
      "outputs": []
    },
    {
      "cell_type": "code",
      "source": [
        "data,labels0=zip(*dataset)\n",
        "test,tlabels0=zip(*testset)"
      ],
      "metadata": {
        "id": "P4iuit2yT9ip"
      },
      "execution_count": 11,
      "outputs": []
    },
    {
      "cell_type": "code",
      "source": [
        "labels1=to_categorical(labels0)\n",
        "data=np.array(data)\n",
        "labels=np.array(labels1)"
      ],
      "metadata": {
        "id": "SjccCyH5UHDE"
      },
      "execution_count": 12,
      "outputs": []
    },
    {
      "cell_type": "code",
      "source": [
        "tlabels1=to_categorical(tlabels0)\n",
        "test=np.array(test)\n",
        "tlabels=np.array(tlabels1)"
      ],
      "metadata": {
        "id": "qMi5FZYJUbXq"
      },
      "execution_count": 13,
      "outputs": []
    },
    {
      "cell_type": "code",
      "source": [
        "print(len(labels))\n",
        "print(len(tlabels))"
      ],
      "metadata": {
        "colab": {
          "base_uri": "https://localhost:8080/"
        },
        "id": "CG80_P7H15Rw",
        "outputId": "f9a9c659-f1e6-4363-dba4-49e32e5ca41f"
      },
      "execution_count": 14,
      "outputs": [
        {
          "output_type": "stream",
          "name": "stdout",
          "text": [
            "180\n",
            "60\n"
          ]
        }
      ]
    },
    {
      "cell_type": "code",
      "source": [
        "trainx,testx,trainy,testy=train_test_split(data,labels,test_size=0.2,random_state=44)"
      ],
      "metadata": {
        "id": "qXUpXxMj17nN"
      },
      "execution_count": 15,
      "outputs": []
    },
    {
      "cell_type": "code",
      "source": [
        "print(trainx.shape)\n",
        "print(testx.shape)\n",
        "print(trainy.shape)\n",
        "print(testy.shape)"
      ],
      "metadata": {
        "colab": {
          "base_uri": "https://localhost:8080/"
        },
        "id": "rH13QeDg19uY",
        "outputId": "a5ff5f85-4393-4ae5-8f9e-f97bb5cc48e9"
      },
      "execution_count": 16,
      "outputs": [
        {
          "output_type": "stream",
          "name": "stdout",
          "text": [
            "(144, 100, 100, 3)\n",
            "(36, 100, 100, 3)\n",
            "(144, 3)\n",
            "(36, 3)\n"
          ]
        }
      ]
    },
    {
      "cell_type": "code",
      "source": [
        "datagen = tf.keras.preprocessing.image.ImageDataGenerator(\n",
        "    rotation_range=20, #image rotation range\n",
        "    width_shift_range=0.2, #horizontal shift range\n",
        "    height_shift_range=0.2, #vertical shift range\n",
        "    shear_range=0.1,\n",
        "    zoom_range=[0.2, 3.0],\n",
        "    horizontal_flip=True,\n",
        "    vertical_flip=True,\n",
        "    fill_mode=\"nearest\") #pixel filling mode for empty areas"
      ],
      "metadata": {
        "id": "epmeRfwO2AJi"
      },
      "execution_count": 17,
      "outputs": []
    },
    {
      "cell_type": "code",
      "source": [
        "# Load the pre-trained model without the top (classification) layers\n",
        "pretrained_model = tf.keras.applications.DenseNet201(weights='imagenet', input_shape=(100,100,3),include_top=False,pooling='avg')\n",
        "\n",
        "# Freeze the pre-trained layers so they are not updated during training\n",
        "for layer in pretrained_model.layers:\n",
        "  layer.trainable = False"
      ],
      "metadata": {
        "id": "QctlVqTa2UzT"
      },
      "execution_count": 18,
      "outputs": []
    },
    {
      "cell_type": "code",
      "source": [
        "from tensorflow.keras import layers\n",
        "from keras.layers import Flatten\n",
        "\n",
        "inputs = pretrained_model.input\n",
        "x = tf.keras.layers.Dense(128, activation='relu')(pretrained_model.output)\n",
        "x = tf.keras.layers.Dropout(0.2)(x)  # Dropout layer dengan dropout rate 0.2\n",
        "outputs = tf.keras.layers.Dense(3, activation='softmax')(x)\n",
        "\n",
        "# Create the fine-tuned model\n",
        "model = tf.keras.Model(inputs=inputs, outputs=outputs)"
      ],
      "metadata": {
        "id": "Vi0mv4Di2hiP"
      },
      "execution_count": 20,
      "outputs": []
    },
    {
      "cell_type": "code",
      "source": [
        "# Compile the model\n",
        "from tensorflow.keras.optimizers import Adam\n",
        "\n",
        "model.compile(optimizer=Adam(learning_rate=0.001),loss='categorical_crossentropy',metrics=['accuracy'])"
      ],
      "metadata": {
        "id": "uKgowujr2kO3"
      },
      "execution_count": 21,
      "outputs": []
    },
    {
      "cell_type": "code",
      "source": [
        "his=model.fit(datagen.flow(trainx,trainy,batch_size=32),validation_data=(testx,testy),epochs=30)"
      ],
      "metadata": {
        "id": "uf9UjWa-2msl",
        "colab": {
          "base_uri": "https://localhost:8080/"
        },
        "outputId": "86075f88-8fe0-43c1-cad1-3f6a14ef86cb"
      },
      "execution_count": 22,
      "outputs": [
        {
          "output_type": "stream",
          "name": "stdout",
          "text": [
            "Epoch 1/30\n",
            "5/5 [==============================] - 25s 2s/step - loss: 1.9836 - accuracy: 0.3681 - val_loss: 0.7345 - val_accuracy: 0.6389\n",
            "Epoch 2/30\n",
            "5/5 [==============================] - 1s 111ms/step - loss: 1.0600 - accuracy: 0.5208 - val_loss: 0.5273 - val_accuracy: 0.8056\n",
            "Epoch 3/30\n",
            "5/5 [==============================] - 1s 112ms/step - loss: 0.6987 - accuracy: 0.6875 - val_loss: 0.4224 - val_accuracy: 0.8611\n",
            "Epoch 4/30\n",
            "5/5 [==============================] - 1s 122ms/step - loss: 0.6850 - accuracy: 0.7569 - val_loss: 0.2708 - val_accuracy: 0.9722\n",
            "Epoch 5/30\n",
            "5/5 [==============================] - 1s 137ms/step - loss: 0.6338 - accuracy: 0.7708 - val_loss: 0.4812 - val_accuracy: 0.7778\n",
            "Epoch 6/30\n",
            "5/5 [==============================] - 1s 114ms/step - loss: 0.6193 - accuracy: 0.7292 - val_loss: 0.2477 - val_accuracy: 0.9167\n",
            "Epoch 7/30\n",
            "5/5 [==============================] - 1s 114ms/step - loss: 0.5423 - accuracy: 0.7778 - val_loss: 0.2167 - val_accuracy: 0.9722\n",
            "Epoch 8/30\n",
            "5/5 [==============================] - 1s 137ms/step - loss: 0.5296 - accuracy: 0.7847 - val_loss: 0.2753 - val_accuracy: 0.9167\n",
            "Epoch 9/30\n",
            "5/5 [==============================] - 1s 132ms/step - loss: 0.4368 - accuracy: 0.7986 - val_loss: 0.2539 - val_accuracy: 0.9167\n",
            "Epoch 10/30\n",
            "5/5 [==============================] - 1s 132ms/step - loss: 0.4833 - accuracy: 0.7917 - val_loss: 0.2368 - val_accuracy: 0.9444\n",
            "Epoch 11/30\n",
            "5/5 [==============================] - 1s 111ms/step - loss: 0.4233 - accuracy: 0.8194 - val_loss: 0.2473 - val_accuracy: 0.9722\n",
            "Epoch 12/30\n",
            "5/5 [==============================] - 1s 117ms/step - loss: 0.3240 - accuracy: 0.8958 - val_loss: 0.2256 - val_accuracy: 0.9444\n",
            "Epoch 13/30\n",
            "5/5 [==============================] - 1s 114ms/step - loss: 0.4649 - accuracy: 0.8472 - val_loss: 0.2242 - val_accuracy: 0.9444\n",
            "Epoch 14/30\n",
            "5/5 [==============================] - 1s 115ms/step - loss: 0.3328 - accuracy: 0.8819 - val_loss: 0.1964 - val_accuracy: 0.9444\n",
            "Epoch 15/30\n",
            "5/5 [==============================] - 1s 110ms/step - loss: 0.3832 - accuracy: 0.8611 - val_loss: 0.2160 - val_accuracy: 0.9444\n",
            "Epoch 16/30\n",
            "5/5 [==============================] - 1s 190ms/step - loss: 0.3729 - accuracy: 0.8611 - val_loss: 0.2076 - val_accuracy: 0.9444\n",
            "Epoch 17/30\n",
            "5/5 [==============================] - 1s 191ms/step - loss: 0.4194 - accuracy: 0.8125 - val_loss: 0.1822 - val_accuracy: 0.9444\n",
            "Epoch 18/30\n",
            "5/5 [==============================] - 1s 185ms/step - loss: 0.2788 - accuracy: 0.8819 - val_loss: 0.1674 - val_accuracy: 0.9722\n",
            "Epoch 19/30\n",
            "5/5 [==============================] - 1s 199ms/step - loss: 0.3582 - accuracy: 0.8681 - val_loss: 0.1646 - val_accuracy: 0.9722\n",
            "Epoch 20/30\n",
            "5/5 [==============================] - 1s 122ms/step - loss: 0.3389 - accuracy: 0.8889 - val_loss: 0.1623 - val_accuracy: 0.9722\n",
            "Epoch 21/30\n",
            "5/5 [==============================] - 1s 119ms/step - loss: 0.3872 - accuracy: 0.8542 - val_loss: 0.1639 - val_accuracy: 0.9444\n",
            "Epoch 22/30\n",
            "5/5 [==============================] - 1s 134ms/step - loss: 0.2850 - accuracy: 0.8889 - val_loss: 0.1636 - val_accuracy: 0.9722\n",
            "Epoch 23/30\n",
            "5/5 [==============================] - 1s 114ms/step - loss: 0.3383 - accuracy: 0.8819 - val_loss: 0.2441 - val_accuracy: 0.9167\n",
            "Epoch 24/30\n",
            "5/5 [==============================] - 1s 113ms/step - loss: 0.2680 - accuracy: 0.9028 - val_loss: 0.1718 - val_accuracy: 0.9722\n",
            "Epoch 25/30\n",
            "5/5 [==============================] - 1s 123ms/step - loss: 0.2842 - accuracy: 0.8958 - val_loss: 0.1827 - val_accuracy: 0.9444\n",
            "Epoch 26/30\n",
            "5/5 [==============================] - 1s 114ms/step - loss: 0.2644 - accuracy: 0.9097 - val_loss: 0.1659 - val_accuracy: 0.9444\n",
            "Epoch 27/30\n",
            "5/5 [==============================] - 1s 132ms/step - loss: 0.3261 - accuracy: 0.8403 - val_loss: 0.1738 - val_accuracy: 0.9444\n",
            "Epoch 28/30\n",
            "5/5 [==============================] - 1s 136ms/step - loss: 0.3069 - accuracy: 0.9028 - val_loss: 0.2248 - val_accuracy: 0.9444\n",
            "Epoch 29/30\n",
            "5/5 [==============================] - 1s 139ms/step - loss: 0.3143 - accuracy: 0.8750 - val_loss: 0.3333 - val_accuracy: 0.8889\n",
            "Epoch 30/30\n",
            "5/5 [==============================] - 1s 116ms/step - loss: 0.2611 - accuracy: 0.9097 - val_loss: 0.2873 - val_accuracy: 0.9444\n"
          ]
        }
      ]
    },
    {
      "cell_type": "code",
      "source": [
        "y_pred=model.predict(testx)\n",
        "pred=np.argmax(y_pred,axis=1)\n",
        "ground = np.argmax(testy,axis=1)\n",
        "print(classification_report(ground,pred))"
      ],
      "metadata": {
        "id": "cdHJscND5gJ5",
        "colab": {
          "base_uri": "https://localhost:8080/"
        },
        "outputId": "e1016d25-4b3a-4085-d761-df62259e2db6"
      },
      "execution_count": 23,
      "outputs": [
        {
          "output_type": "stream",
          "name": "stdout",
          "text": [
            "2/2 [==============================] - 5s 63ms/step\n",
            "              precision    recall  f1-score   support\n",
            "\n",
            "           0       0.88      1.00      0.94        15\n",
            "           1       1.00      0.92      0.96        13\n",
            "           2       1.00      0.88      0.93         8\n",
            "\n",
            "    accuracy                           0.94        36\n",
            "   macro avg       0.96      0.93      0.94        36\n",
            "weighted avg       0.95      0.94      0.94        36\n",
            "\n"
          ]
        }
      ]
    },
    {
      "cell_type": "code",
      "source": [
        "get_acc = his.history['accuracy']\n",
        "value_acc = his.history['val_accuracy']\n",
        "get_loss = his.history['loss']\n",
        "validation_loss = his.history['val_loss']\n",
        "\n",
        "epochs = range(len(get_acc))\n",
        "plt.plot(epochs, get_acc, 'r', label='Accuracy of Training data')\n",
        "plt.plot(epochs, value_acc, 'b', label='Accuracy of Validation data')\n",
        "plt.title('Training vs validation accuracy')\n",
        "plt.legend(loc=0)\n",
        "plt.figure()\n",
        "plt.show()"
      ],
      "metadata": {
        "id": "9ZsiLopX5qcc",
        "colab": {
          "base_uri": "https://localhost:8080/",
          "height": 469
        },
        "outputId": "ffe39f93-06a2-4d70-9c5e-82faab603484"
      },
      "execution_count": 24,
      "outputs": [
        {
          "output_type": "display_data",
          "data": {
            "text/plain": [
              "<Figure size 640x480 with 1 Axes>"
            ],
            "image/png": "[encoded data removed]"
          },
          "metadata": {}
        },
        {
          "output_type": "display_data",
          "data": {
            "text/plain": [
              "<Figure size 640x480 with 0 Axes>"
            ]
          },
          "metadata": {}
        }
      ]
    },
    {
      "cell_type": "code",
      "source": [
        "epochs = range(len(get_loss))\n",
        "plt.plot(epochs, get_loss, 'r', label='Loss of Training data')\n",
        "plt.plot(epochs, validation_loss, 'b', label='Loss of Validation data')\n",
        "plt.title('Training vs validation loss')\n",
        "plt.legend(loc=0)\n",
        "plt.figure()\n",
        "plt.show()"
      ],
      "metadata": {
        "id": "p-hVjBz45v4k",
        "colab": {
          "base_uri": "https://localhost:8080/",
          "height": 469
        },
        "outputId": "715a4948-8bd7-4c8f-9fa2-207a501b9bfe"
      },
      "execution_count": 25,
      "outputs": [
        {
          "output_type": "display_data",
          "data": {
            "text/plain": [
              "<Figure size 640x480 with 1 Axes>"
            ],
            "image/png": "[encoded data removed]"
          },
          "metadata": {}
        },
        {
          "output_type": "display_data",
          "data": {
            "text/plain": [
              "<Figure size 640x480 with 0 Axes>"
            ]
          },
          "metadata": {}
        }
      ]
    },
    {
      "cell_type": "code",
      "source": [
        "load_img(\"/content/drive/MyDrive/dataset/paddy-doctor/train_image/hispa/100003.jpg\",target_size=(100,100))"
      ],
      "metadata": {
        "id": "tWwMGzN07baW",
        "colab": {
          "base_uri": "https://localhost:8080/",
          "height": 117
        },
        "outputId": "94662a36-4f50-4e21-95f0-42bf1e5874d3"
      },
      "execution_count": 26,
      "outputs": [
        {
          "output_type": "execute_result",
          "data": {
            "text/plain": [
              "<PIL.Image.Image image mode=RGB size=100x100 at 0x7FA9C1523C70>"
            ],
            "image/png": "[encoded data removed]"
          },
          "metadata": {},
          "execution_count": 26
        }
      ]
    },
    {
      "cell_type": "code",
      "source": [
        "load_img(\"/content/drive/MyDrive/dataset/disease/tungro/IMG_1028.jpg\",target_size=(100,100))"
      ],
      "metadata": {
        "id": "E9yYySNl6ZmP",
        "colab": {
          "base_uri": "https://localhost:8080/",
          "height": 117
        },
        "outputId": "031064cd-1340-41ef-d48b-51d4d4d3ae09"
      },
      "execution_count": 27,
      "outputs": [
        {
          "output_type": "execute_result",
          "data": {
            "text/plain": [
              "<PIL.Image.Image image mode=RGB size=100x100 at 0x7FA9C16AFF70>"
            ],
            "image/png": "[encoded data removed]"
          },
          "metadata": {},
          "execution_count": 27
        }
      ]
    },
    {
      "cell_type": "code",
      "source": [
        "image=load_img(\"/content/drive/MyDrive/dataset/disease/tungro/IMG_1028.jpg\",target_size=(100,100))\n",
        "\n",
        "image=img_to_array(image) \n",
        "image=image/255.0\n",
        "prediction_image=np.array(image)\n",
        "prediction_image= np.expand_dims(image, axis=0)"
      ],
      "metadata": {
        "id": "DoB7n9Rl7G5Q"
      },
      "execution_count": 28,
      "outputs": []
    },
    {
      "cell_type": "code",
      "source": [
        "image=load_img(\"/content/drive/MyDrive/dataset/paddy-doctor/train_image/hispa/100003.jpg\",target_size=(100,100))\n",
        "\n",
        "image=img_to_array(image) \n",
        "image=image/255.0\n",
        "prediction_image=np.array(image)\n",
        "prediction_image= np.expand_dims(image, axis=0)"
      ],
      "metadata": {
        "id": "CsMcKcQv7LAB"
      },
      "execution_count": 29,
      "outputs": []
    },
    {
      "cell_type": "code",
      "execution_count": 39,
      "metadata": {
        "id": "DoWp43WxJDNT",
        "colab": {
          "base_uri": "https://localhost:8080/",
          "height": 125
        },
        "outputId": "410ff7d5-0559-4a69-9f63-94d993912306"
      },
      "outputs": [
        {
          "output_type": "display_data",
          "data": {
            "text/plain": [
              "<IPython.core.display.HTML object>"
            ],
            "text/html": [
              "\n",
              "     <input type=\"file\" id=\"files-42779317-74d1-4a41-b7ff-c118c3555959\" name=\"files[]\" multiple disabled\n",
              "        style=\"border:none\" />\n",
              "     <output id=\"result-42779317-74d1-4a41-b7ff-c118c3555959\">\n",
              "      Upload widget is only available when the cell has been executed in the\n",
              "      current browser session. Please rerun this cell to enable.\n",
              "      </output>\n",
              "      <script>// Copyright 2017 Google LLC\n",
              "//\n",
              "// Licensed under the Apache License, Version 2.0 (the \"License\");\n",
              "// you may not use this file except in compliance with the License.\n",
              "// You may obtain a copy of the License at\n",
              "//\n",
              "//      http://www.apache.org/licenses/LICENSE-2.0\n",
              "//\n",
              "// Unless required by applicable law or agreed to in writing, software\n",
              "// distributed under the License is distributed on an \"AS IS\" BASIS,\n",
              "// WITHOUT WARRANTIES OR CONDITIONS OF ANY KIND, either express or implied.\n",
              "// See the License for the specific language governing permissions and\n",
              "// limitations under the License.\n",
              "\n",
              "/**\n",
              " * @fileoverview Helpers for google.colab Python module.\n",
              " */\n",
              "(function(scope) {\n",
              "function span(text, styleAttributes = {}) {\n",
              "  const element = document.createElement('span');\n",
              "  element.textContent = text;\n",
              "  for (const key of Object.keys(styleAttributes)) {\n",
              "    element.style[key] = styleAttributes[key];\n",
              "  }\n",
              "  return element;\n",
              "}\n",
              "\n",
              "// Max number of bytes which will be uploaded at a time.\n",
              "const MAX_PAYLOAD_SIZE = 100 * 1024;\n",
              "\n",
              "function _uploadFiles(inputId, outputId) {\n",
              "  const steps = uploadFilesStep(inputId, outputId);\n",
              "  const outputElement = document.getElementById(outputId);\n",
              "  // Cache steps on the outputElement to make it available for the next call\n",
              "  // to uploadFilesContinue from Python.\n",
              "  outputElement.steps = steps;\n",
              "\n",
              "  return _uploadFilesContinue(outputId);\n",
              "}\n",
              "\n",
              "// This is roughly an async generator (not supported in the browser yet),\n",
              "// where there are multiple asynchronous steps and the Python side is going\n",
              "// to poll for completion of each step.\n",
              "// This uses a Promise to block the python side on completion of each step,\n",
              "// then passes the result of the previous step as the input to the next step.\n",
              "function _uploadFilesContinue(outputId) {\n",
              "  const outputElement = document.getElementById(outputId);\n",
              "  const steps = outputElement.steps;\n",
              "\n",
              "  const next = steps.next(outputElement.lastPromiseValue);\n",
              "  return Promise.resolve(next.value.promise).then((value) => {\n",
              "    // Cache the last promise value to make it available to the next\n",
              "    // step of the generator.\n",
              "    outputElement.lastPromiseValue = value;\n",
              "    return next.value.response;\n",
              "  });\n",
              "}\n",
              "\n",
              "/**\n",
              " * Generator function which is called between each async step of the upload\n",
              " * process.\n",
              " * @param {string} inputId Element ID of the input file picker element.\n",
              " * @param {string} outputId Element ID of the output display.\n",
              " * @return {!Iterable<!Object>} Iterable of next steps.\n",
              " */\n",
              "function* uploadFilesStep(inputId, outputId) {\n",
              "  const inputElement = document.getElementById(inputId);\n",
              "  inputElement.disabled = false;\n",
              "\n",
              "  const outputElement = document.getElementById(outputId);\n",
              "  outputElement.innerHTML = '';\n",
              "\n",
              "  const pickedPromise = new Promise((resolve) => {\n",
              "    inputElement.addEventListener('change', (e) => {\n",
              "      resolve(e.target.files);\n",
              "    });\n",
              "  });\n",
              "\n",
              "  const cancel = document.createElement('button');\n",
              "  inputElement.parentElement.appendChild(cancel);\n",
              "  cancel.textContent = 'Cancel upload';\n",
              "  const cancelPromise = new Promise((resolve) => {\n",
              "    cancel.onclick = () => {\n",
              "      resolve(null);\n",
              "    };\n",
              "  });\n",
              "\n",
              "  // Wait for the user to pick the files.\n",
              "  const files = yield {\n",
              "    promise: Promise.race([pickedPromise, cancelPromise]),\n",
              "    response: {\n",
              "      action: 'starting',\n",
              "    }\n",
              "  };\n",
              "\n",
              "  cancel.remove();\n",
              "\n",
              "  // Disable the input element since further picks are not allowed.\n",
              "  inputElement.disabled = true;\n",
              "\n",
              "  if (!files) {\n",
              "    return {\n",
              "      response: {\n",
              "        action: 'complete',\n",
              "      }\n",
              "    };\n",
              "  }\n",
              "\n",
              "  for (const file of files) {\n",
              "    const li = document.createElement('li');\n",
              "    li.append(span(file.name, {fontWeight: 'bold'}));\n",
              "    li.append(span(\n",
              "        `(${file.type || 'n/a'}) - ${file.size} bytes, ` +\n",
              "        `last modified: ${\n",
              "            file.lastModifiedDate ? file.lastModifiedDate.toLocaleDateString() :\n",
              "                                    'n/a'} - `));\n",
              "    const percent = span('0% done');\n",
              "    li.appendChild(percent);\n",
              "\n",
              "    outputElement.appendChild(li);\n",
              "\n",
              "    const fileDataPromise = new Promise((resolve) => {\n",
              "      const reader = new FileReader();\n",
              "      reader.onload = (e) => {\n",
              "        resolve(e.target.result);\n",
              "      };\n",
              "      reader.readAsArrayBuffer(file);\n",
              "    });\n",
              "    // Wait for the data to be ready.\n",
              "    let fileData = yield {\n",
              "      promise: fileDataPromise,\n",
              "      response: {\n",
              "        action: 'continue',\n",
              "      }\n",
              "    };\n",
              "\n",
              "    // Use a chunked sending to avoid message size limits. See b/62115660.\n",
              "    let position = 0;\n",
              "    do {\n",
              "      const length = Math.min(fileData.byteLength - position, MAX_PAYLOAD_SIZE);\n",
              "      const chunk = new Uint8Array(fileData, position, length);\n",
              "      position += length;\n",
              "\n",
              "      const base64 = btoa(String.fromCharCode.apply(null, chunk));\n",
              "      yield {\n",
              "        response: {\n",
              "          action: 'append',\n",
              "          file: file.name,\n",
              "          data: base64,\n",
              "        },\n",
              "      };\n",
              "\n",
              "      let percentDone = fileData.byteLength === 0 ?\n",
              "          100 :\n",
              "          Math.round((position / fileData.byteLength) * 100);\n",
              "      percent.textContent = `${percentDone}% done`;\n",
              "\n",
              "    } while (position < fileData.byteLength);\n",
              "  }\n",
              "\n",
              "  // All done.\n",
              "  yield {\n",
              "    response: {\n",
              "      action: 'complete',\n",
              "    }\n",
              "  };\n",
              "}\n",
              "\n",
              "scope.google = scope.google || {};\n",
              "scope.google.colab = scope.google.colab || {};\n",
              "scope.google.colab._files = {\n",
              "  _uploadFiles,\n",
              "  _uploadFilesContinue,\n",
              "};\n",
              "})(self);\n",
              "</script> "
            ]
          },
          "metadata": {}
        },
        {
          "output_type": "stream",
          "name": "stdout",
          "text": [
            "Saving blight3.jpg to blight3.jpg\n",
            "1/1 [==============================] - 0s 36ms/step\n",
            "[0.04427351 0.86068696 0.09503955]\n",
            "Prediction is blight.\n"
          ]
        }
      ],
      "source": [
        "## NOTE: If you are using Safari and this cell throws an error,\n",
        "## please skip this block and run the next one instead.\n",
        "\n",
        "import numpy as np\n",
        "\n",
        "from google.colab import files\n",
        "from tensorflow.keras.utils import load_img, img_to_array\n",
        "\n",
        "uploaded=files.upload()\n",
        "\n",
        "for fn in uploaded.keys():\n",
        " \n",
        "  # predicting images\n",
        "  path='/content/' + fn\n",
        "  img=load_img(path, target_size=(150, 150))\n",
        "  \n",
        "  x=img_to_array(img)\n",
        "  x /= 255\n",
        "  x=np.expand_dims(x, axis=0)\n",
        "  images = np.vstack([x])\n",
        "  \n",
        "  classes = model.predict(images, batch_size=10)\n",
        "\n",
        "  print(classes[0])\n",
        "  value=np.argmax(classes)\n",
        "  move_name=mapper(value)\n",
        "  \n",
        "  print(\"Prediction is {}.\".format(move_name))\n",
        " "
      ]
    },
    {
      "cell_type": "code",
      "source": [
        "print(test.shape)\n",
        "prediction2=model.predict(test)\n",
        "print(prediction2.shape)\n",
        "\n",
        "PRED=[]\n",
        "for item in prediction2:\n",
        "    value2=np.argmax(item)      \n",
        "    PRED+=[value2]"
      ],
      "metadata": {
        "id": "WkjTePve_suR",
        "colab": {
          "base_uri": "https://localhost:8080/"
        },
        "outputId": "c02b2828-68d9-4d1d-dd02-45c553eeae4c"
      },
      "execution_count": 31,
      "outputs": [
        {
          "output_type": "stream",
          "name": "stdout",
          "text": [
            "(60, 100, 100, 3)\n",
            "2/2 [==============================] - 2s 2s/step\n",
            "(60, 3)\n"
          ]
        }
      ]
    },
    {
      "cell_type": "code",
      "source": [
        "ANS=tlabels0"
      ],
      "metadata": {
        "id": "5a5V-jyB_uRm"
      },
      "execution_count": 32,
      "outputs": []
    },
    {
      "cell_type": "code",
      "source": [
        "accuracy=accuracy_score(ANS,PRED)\n",
        "print(accuracy)"
      ],
      "metadata": {
        "id": "m3L9Y6ll_v6o",
        "colab": {
          "base_uri": "https://localhost:8080/"
        },
        "outputId": "2e3853d5-e4b0-4e58-fdba-dfc542fb2413"
      },
      "execution_count": 33,
      "outputs": [
        {
          "output_type": "stream",
          "name": "stdout",
          "text": [
            "0.9166666666666666\n"
          ]
        }
      ]
    }
  ]
}